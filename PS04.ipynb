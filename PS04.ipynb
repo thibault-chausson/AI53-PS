{
 "cells": [
  {
   "cell_type": "markdown",
   "source": [
    "# Practical Session #4: Part 1"
   ],
   "metadata": {
    "collapsed": false
   },
   "id": "10e53365c07492"
  },
  {
   "cell_type": "code",
   "execution_count": 21,
   "outputs": [],
   "source": [
    "import pandas as pd\n",
    "from sklearn.model_selection import train_test_split\n",
    "from sklearn.preprocessing import StandardScaler\n",
    "from sklearn.linear_model import LogisticRegression\n",
    "from sklearn.metrics import confusion_matrix\n",
    "import matplotlib.pyplot as plt\n",
    "import numpy as np"
   ],
   "metadata": {
    "collapsed": false,
    "ExecuteTime": {
     "end_time": "2023-10-17T16:03:28.108468Z",
     "start_time": "2023-10-17T16:03:28.084620Z"
    }
   },
   "id": "82ede97ae0e106b"
  },
  {
   "cell_type": "markdown",
   "source": [
    "## Problem 1\n",
    "- Implement a perceptron and the learning algorithm in Python, using\n",
    "the Python code `template_MLP.py`.\n",
    "- Train it on the Iris Plant dataset using the first 100 examples\n",
    "(corresponding to classes Iris-setosa and Iris-versicolor) and using\n",
    "as input features the sepal length (first column) and the petal length\n",
    "(third column)."
   ],
   "metadata": {
    "collapsed": false
   },
   "id": "fc1b3dc7bfcd3c29"
  },
  {
   "cell_type": "code",
   "execution_count": 22,
   "outputs": [
    {
     "data": {
      "text/plain": "   5.1  3.5  1.4  0.2  0\n0  4.9  3.0  1.4  0.2  0\n1  4.7  3.2  1.3  0.2  0\n2  4.6  3.1  1.5  0.2  0\n3  5.0  3.6  1.4  0.2  0\n4  5.4  3.9  1.7  0.4  0",
      "text/html": "<div>\n<style scoped>\n    .dataframe tbody tr th:only-of-type {\n        vertical-align: middle;\n    }\n\n    .dataframe tbody tr th {\n        vertical-align: top;\n    }\n\n    .dataframe thead th {\n        text-align: right;\n    }\n</style>\n<table border=\"1\" class=\"dataframe\">\n  <thead>\n    <tr style=\"text-align: right;\">\n      <th></th>\n      <th>5.1</th>\n      <th>3.5</th>\n      <th>1.4</th>\n      <th>0.2</th>\n      <th>0</th>\n    </tr>\n  </thead>\n  <tbody>\n    <tr>\n      <th>0</th>\n      <td>4.9</td>\n      <td>3.0</td>\n      <td>1.4</td>\n      <td>0.2</td>\n      <td>0</td>\n    </tr>\n    <tr>\n      <th>1</th>\n      <td>4.7</td>\n      <td>3.2</td>\n      <td>1.3</td>\n      <td>0.2</td>\n      <td>0</td>\n    </tr>\n    <tr>\n      <th>2</th>\n      <td>4.6</td>\n      <td>3.1</td>\n      <td>1.5</td>\n      <td>0.2</td>\n      <td>0</td>\n    </tr>\n    <tr>\n      <th>3</th>\n      <td>5.0</td>\n      <td>3.6</td>\n      <td>1.4</td>\n      <td>0.2</td>\n      <td>0</td>\n    </tr>\n    <tr>\n      <th>4</th>\n      <td>5.4</td>\n      <td>3.9</td>\n      <td>1.7</td>\n      <td>0.4</td>\n      <td>0</td>\n    </tr>\n  </tbody>\n</table>\n</div>"
     },
     "execution_count": 22,
     "metadata": {},
     "output_type": "execute_result"
    }
   ],
   "source": [
    "# Iris dataset\n",
    "\n",
    "datas_iris = pd.read_csv('Datasets/iris_proc.data')\n",
    "# sepal length / sepal width / petal length / petal width / class\n",
    "\n",
    "datas_iris.head()"
   ],
   "metadata": {
    "collapsed": false,
    "ExecuteTime": {
     "end_time": "2023-10-17T16:03:28.189565Z",
     "start_time": "2023-10-17T16:03:28.088818Z"
    }
   },
   "id": "87469fddc0325922"
  },
  {
   "cell_type": "markdown",
   "source": [
    "## Problem 2\n",
    "- Study the python code `template_LogReg.py` where a logistic\n",
    "regression is used on the Social Network dataset, by taking into\n",
    "account the age and estimated salary to predict the output.\n",
    "- Apply a logistic regression on the Pima Indians Diabetes and on the\n",
    "Iris Plant dataset."
   ],
   "metadata": {
    "collapsed": false,
    "ExecuteTime": {
     "end_time": "2023-10-17T15:53:10.204260Z",
     "start_time": "2023-10-17T15:53:09.148618Z"
    }
   },
   "id": "a5f099455f03e938"
  },
  {
   "cell_type": "code",
   "execution_count": 23,
   "outputs": [],
   "source": [
    "def drawClasses(X_set, y_set, c1, c2, title_name, x_label, y_label, classes, classifier=None):\n",
    "    from matplotlib.colors import ListedColormap\n",
    "    plt.figure()\n",
    "    #    X_set, y_set = X_train, y_train\n",
    "    X1, X2 = np.meshgrid(np.arange(start=X_set[:, c1].min() - 1, stop=X_set[:, c1].max() + 1, step=0.01),\n",
    "                         np.arange(start=X_set[:, c2].min() - 1, stop=X_set[:, c2].max() + 1, step=0.01))\n",
    "    if classifier is not None:\n",
    "        plt.contourf(X1, X2, classifier.predict(np.array([X1.ravel(), X2.ravel()]).T).reshape(X1.shape),\n",
    "                     alpha=0.25, cmap=ListedColormap(classes))\n",
    "    plt.xlim(X1.min(), X1.max())\n",
    "    plt.ylim(X2.min(), X2.max())\n",
    "    for i, j in enumerate(np.unique(y_set)):\n",
    "        plt.scatter(X_set[y_set == j, 0], X_set[y_set == j, 1],\n",
    "                    c=ListedColormap(classes)(i), label=j)\n",
    "    plt.title('Classifier ({})'.format(title_name))\n",
    "    plt.xlabel(x_label)\n",
    "    plt.ylabel(y_label)\n",
    "    plt.legend()\n",
    "    plt.show()"
   ],
   "metadata": {
    "collapsed": false,
    "ExecuteTime": {
     "end_time": "2023-10-17T16:03:28.240488Z",
     "start_time": "2023-10-17T16:03:28.096142Z"
    }
   },
   "id": "951c515242cf7a81"
  },
  {
   "cell_type": "code",
   "execution_count": 24,
   "outputs": [
    {
     "data": {
      "text/plain": "   6  148  72  35    0  33.6  0.627  50  1\n0  1   85  66  29    0  26.6  0.351  31  0\n1  8  183  64   0    0  23.3  0.672  32  1\n2  1   89  66  23   94  28.1  0.167  21  0\n3  0  137  40  35  168  43.1  2.288  33  1\n4  5  116  74   0    0  25.6  0.201  30  0",
      "text/html": "<div>\n<style scoped>\n    .dataframe tbody tr th:only-of-type {\n        vertical-align: middle;\n    }\n\n    .dataframe tbody tr th {\n        vertical-align: top;\n    }\n\n    .dataframe thead th {\n        text-align: right;\n    }\n</style>\n<table border=\"1\" class=\"dataframe\">\n  <thead>\n    <tr style=\"text-align: right;\">\n      <th></th>\n      <th>6</th>\n      <th>148</th>\n      <th>72</th>\n      <th>35</th>\n      <th>0</th>\n      <th>33.6</th>\n      <th>0.627</th>\n      <th>50</th>\n      <th>1</th>\n    </tr>\n  </thead>\n  <tbody>\n    <tr>\n      <th>0</th>\n      <td>1</td>\n      <td>85</td>\n      <td>66</td>\n      <td>29</td>\n      <td>0</td>\n      <td>26.6</td>\n      <td>0.351</td>\n      <td>31</td>\n      <td>0</td>\n    </tr>\n    <tr>\n      <th>1</th>\n      <td>8</td>\n      <td>183</td>\n      <td>64</td>\n      <td>0</td>\n      <td>0</td>\n      <td>23.3</td>\n      <td>0.672</td>\n      <td>32</td>\n      <td>1</td>\n    </tr>\n    <tr>\n      <th>2</th>\n      <td>1</td>\n      <td>89</td>\n      <td>66</td>\n      <td>23</td>\n      <td>94</td>\n      <td>28.1</td>\n      <td>0.167</td>\n      <td>21</td>\n      <td>0</td>\n    </tr>\n    <tr>\n      <th>3</th>\n      <td>0</td>\n      <td>137</td>\n      <td>40</td>\n      <td>35</td>\n      <td>168</td>\n      <td>43.1</td>\n      <td>2.288</td>\n      <td>33</td>\n      <td>1</td>\n    </tr>\n    <tr>\n      <th>4</th>\n      <td>5</td>\n      <td>116</td>\n      <td>74</td>\n      <td>0</td>\n      <td>0</td>\n      <td>25.6</td>\n      <td>0.201</td>\n      <td>30</td>\n      <td>0</td>\n    </tr>\n  </tbody>\n</table>\n</div>"
     },
     "execution_count": 24,
     "metadata": {},
     "output_type": "execute_result"
    }
   ],
   "source": [
    "# Indians\n",
    "\n",
    "datas = pd.read_csv('Datasets/pima-indians-diabetes.data')\n",
    "# Pregnancies / Glucose / BloodPressure / SkinThickness / Insulin / BMI / DiabetesPedigreeFunction / Age / Outcome\n",
    "\n",
    "datas.head()"
   ],
   "metadata": {
    "collapsed": false,
    "ExecuteTime": {
     "end_time": "2023-10-17T16:03:28.286060Z",
     "start_time": "2023-10-17T16:03:28.102920Z"
    }
   },
   "id": "aed070df1bf22da9"
  },
  {
   "cell_type": "code",
   "execution_count": 25,
   "outputs": [
    {
     "name": "stdout",
     "output_type": "stream",
     "text": [
      "     148  33.6\n",
      "0     85  26.6\n",
      "1    183  23.3\n",
      "2     89  28.1\n",
      "3    137  43.1\n",
      "4    116  25.6\n",
      "..   ...   ...\n",
      "762  101  32.9\n",
      "763  122  36.8\n",
      "764  121  26.2\n",
      "765  126  30.1\n",
      "766   93  30.4\n",
      "\n",
      "[767 rows x 2 columns]\n",
      "0      0\n",
      "1      1\n",
      "2      0\n",
      "3      1\n",
      "4      0\n",
      "      ..\n",
      "762    0\n",
      "763    0\n",
      "764    0\n",
      "765    1\n",
      "766    0\n",
      "Name: 1, Length: 767, dtype: int64\n"
     ]
    }
   ],
   "source": [
    "X = datas.iloc[:, [1, 5]]\n",
    "y = datas.iloc[:, -1]\n",
    "\n",
    "print(X)\n",
    "print(y)"
   ],
   "metadata": {
    "collapsed": false,
    "ExecuteTime": {
     "end_time": "2023-10-17T16:03:28.288737Z",
     "start_time": "2023-10-17T16:03:28.111982Z"
    }
   },
   "id": "287f7931b26416c4"
  },
  {
   "cell_type": "code",
   "execution_count": 26,
   "outputs": [],
   "source": [
    "X_train, X_test, y_train, y_test = train_test_split(X, y, test_size=0.25, random_state=0)\n",
    "\n",
    "sc = StandardScaler()\n",
    "X_train = sc.fit_transform(X_train)\n",
    "X_test = sc.transform(X_test)"
   ],
   "metadata": {
    "collapsed": false,
    "ExecuteTime": {
     "end_time": "2023-10-17T16:03:28.289347Z",
     "start_time": "2023-10-17T16:03:28.116009Z"
    }
   },
   "id": "cbf3e577277b445"
  },
  {
   "cell_type": "code",
   "execution_count": 27,
   "outputs": [],
   "source": [
    "classifier = LogisticRegression(random_state=0)\n",
    "classifier.fit(X_train, y_train)\n",
    "\n",
    "y_pred = classifier.predict(X_test)"
   ],
   "metadata": {
    "collapsed": false,
    "ExecuteTime": {
     "end_time": "2023-10-17T16:03:28.289471Z",
     "start_time": "2023-10-17T16:03:28.128214Z"
    }
   },
   "id": "75141e3fde531848"
  },
  {
   "cell_type": "code",
   "execution_count": 28,
   "outputs": [
    {
     "name": "stdout",
     "output_type": "stream",
     "text": [
      "[[120  11]\n",
      " [ 28  33]]\n"
     ]
    }
   ],
   "source": [
    "cm = confusion_matrix(y_test, y_pred)\n",
    "print(cm)"
   ],
   "metadata": {
    "collapsed": false,
    "ExecuteTime": {
     "end_time": "2023-10-17T16:03:28.289733Z",
     "start_time": "2023-10-17T16:03:28.132401Z"
    }
   },
   "id": "757b8dcd0d8d53c8"
  },
  {
   "cell_type": "code",
   "execution_count": 29,
   "outputs": [
    {
     "name": "stderr",
     "output_type": "stream",
     "text": [
      "/var/folders/c6/dvmqz81j59g3qs_b7r4gm6640000gn/T/ipykernel_4679/622496047.py:13: UserWarning: *c* argument looks like a single numeric RGB or RGBA sequence, which should be avoided as value-mapping will have precedence in case its length matches with *x* & *y*.  Please use the *color* keyword-argument or provide a 2D array with a single row if you intend to specify the same RGB or RGBA value for all points.\n",
      "  plt.scatter(X_set[y_set == j, 0], X_set[y_set == j, 1],\n"
     ]
    },
    {
     "data": {
      "text/plain": "<Figure size 640x480 with 1 Axes>",
      "image/png": "[encoded data removed]"
     },
     "metadata": {},
     "output_type": "display_data"
    },
    {
     "name": "stderr",
     "output_type": "stream",
     "text": [
      "/var/folders/c6/dvmqz81j59g3qs_b7r4gm6640000gn/T/ipykernel_4679/622496047.py:13: UserWarning: *c* argument looks like a single numeric RGB or RGBA sequence, which should be avoided as value-mapping will have precedence in case its length matches with *x* & *y*.  Please use the *color* keyword-argument or provide a 2D array with a single row if you intend to specify the same RGB or RGBA value for all points.\n",
      "  plt.scatter(X_set[y_set == j, 0], X_set[y_set == j, 1],\n"
     ]
    },
    {
     "data": {
      "text/plain": "<Figure size 640x480 with 1 Axes>",
      "image/png": "[encoded data removed]"
     },
     "metadata": {},
     "output_type": "display_data"
    }
   ],
   "source": [
    "classes = ('red', 'green')\n",
    "\n",
    "drawClasses(X_train, y_train, 0, 1, 'Training set', 'Age', 'Estimated Salary', classes, classifier)\n",
    "drawClasses(X_test, y_test, 0, 1, 'Test set', 'Age', 'Estimated Salary', classes, classifier)"
   ],
   "metadata": {
    "collapsed": false,
    "ExecuteTime": {
     "end_time": "2023-10-17T16:03:28.937018Z",
     "start_time": "2023-10-17T16:03:28.137639Z"
    }
   },
   "id": "47719730ccaca0a"
  },
  {
   "cell_type": "code",
   "execution_count": 30,
   "outputs": [
    {
     "data": {
      "text/plain": "   5.1  3.5  1.4  0.2  0\n0  4.9  3.0  1.4  0.2  0\n1  4.7  3.2  1.3  0.2  0\n2  4.6  3.1  1.5  0.2  0\n3  5.0  3.6  1.4  0.2  0\n4  5.4  3.9  1.7  0.4  0",
      "text/html": "<div>\n<style scoped>\n    .dataframe tbody tr th:only-of-type {\n        vertical-align: middle;\n    }\n\n    .dataframe tbody tr th {\n        vertical-align: top;\n    }\n\n    .dataframe thead th {\n        text-align: right;\n    }\n</style>\n<table border=\"1\" class=\"dataframe\">\n  <thead>\n    <tr style=\"text-align: right;\">\n      <th></th>\n      <th>5.1</th>\n      <th>3.5</th>\n      <th>1.4</th>\n      <th>0.2</th>\n      <th>0</th>\n    </tr>\n  </thead>\n  <tbody>\n    <tr>\n      <th>0</th>\n      <td>4.9</td>\n      <td>3.0</td>\n      <td>1.4</td>\n      <td>0.2</td>\n      <td>0</td>\n    </tr>\n    <tr>\n      <th>1</th>\n      <td>4.7</td>\n      <td>3.2</td>\n      <td>1.3</td>\n      <td>0.2</td>\n      <td>0</td>\n    </tr>\n    <tr>\n      <th>2</th>\n      <td>4.6</td>\n      <td>3.1</td>\n      <td>1.5</td>\n      <td>0.2</td>\n      <td>0</td>\n    </tr>\n    <tr>\n      <th>3</th>\n      <td>5.0</td>\n      <td>3.6</td>\n      <td>1.4</td>\n      <td>0.2</td>\n      <td>0</td>\n    </tr>\n    <tr>\n      <th>4</th>\n      <td>5.4</td>\n      <td>3.9</td>\n      <td>1.7</td>\n      <td>0.4</td>\n      <td>0</td>\n    </tr>\n  </tbody>\n</table>\n</div>"
     },
     "execution_count": 30,
     "metadata": {},
     "output_type": "execute_result"
    }
   ],
   "source": [
    "# Iris dataset\n",
    "\n",
    "datas_iris = pd.read_csv('Datasets/iris_proc.data')\n",
    "# sepal length / sepal width / petal length / petal width / class\n",
    "\n",
    "datas_iris.head()"
   ],
   "metadata": {
    "collapsed": false,
    "ExecuteTime": {
     "end_time": "2023-10-17T16:03:29.018567Z",
     "start_time": "2023-10-17T16:03:28.749798Z"
    }
   },
   "id": "ef0c2e98ca3bbfce"
  },
  {
   "cell_type": "code",
   "execution_count": 31,
   "outputs": [
    {
     "name": "stdout",
     "output_type": "stream",
     "text": [
      "     5.1  1.4\n",
      "0    4.9  1.4\n",
      "1    4.7  1.3\n",
      "2    4.6  1.5\n",
      "3    5.0  1.4\n",
      "4    5.4  1.7\n",
      "..   ...  ...\n",
      "144  6.7  5.2\n",
      "145  6.3  5.0\n",
      "146  6.5  5.2\n",
      "147  6.2  5.4\n",
      "148  5.9  5.1\n",
      "\n",
      "[149 rows x 2 columns]\n",
      "0      0\n",
      "1      0\n",
      "2      0\n",
      "3      0\n",
      "4      0\n",
      "      ..\n",
      "144    2\n",
      "145    2\n",
      "146    2\n",
      "147    2\n",
      "148    2\n",
      "Name: 0, Length: 149, dtype: int64\n"
     ]
    }
   ],
   "source": [
    "X_iris = datas_iris.iloc[:, [0, 2]]\n",
    "y_iris = datas_iris.iloc[:, -1]\n",
    "\n",
    "print(X_iris)\n",
    "print(y_iris)"
   ],
   "metadata": {
    "collapsed": false,
    "ExecuteTime": {
     "end_time": "2023-10-17T16:03:29.019035Z",
     "start_time": "2023-10-17T16:03:28.761726Z"
    }
   },
   "id": "1a225a4269e03d8b"
  },
  {
   "cell_type": "code",
   "execution_count": 32,
   "outputs": [],
   "source": [
    "X_train_iris, X_test_iris, y_train_iris, y_test_iris = train_test_split(X_iris, y_iris, test_size=0.25, random_state=0)\n",
    "\n",
    "sc_iris = StandardScaler()\n",
    "X_train_iris = sc_iris.fit_transform(X_train_iris)\n",
    "X_test_iris = sc_iris.transform(X_test_iris)"
   ],
   "metadata": {
    "collapsed": false,
    "ExecuteTime": {
     "end_time": "2023-10-17T16:03:29.019164Z",
     "start_time": "2023-10-17T16:03:28.769380Z"
    }
   },
   "id": "50160f7ad62f5f1d"
  },
  {
   "cell_type": "code",
   "execution_count": 33,
   "outputs": [],
   "source": [
    "classifier_iris = LogisticRegression(random_state=0)\n",
    "classifier_iris.fit(X_train_iris, y_train_iris)\n",
    "\n",
    "y_pred_iris = classifier_iris.predict(X_test_iris)"
   ],
   "metadata": {
    "collapsed": false,
    "ExecuteTime": {
     "end_time": "2023-10-17T16:03:29.019284Z",
     "start_time": "2023-10-17T16:03:28.773109Z"
    }
   },
   "id": "dfe157becd257d29"
  },
  {
   "cell_type": "code",
   "execution_count": 34,
   "outputs": [
    {
     "name": "stdout",
     "output_type": "stream",
     "text": [
      "[[14  0  0]\n",
      " [ 1 13  0]\n",
      " [ 0  1  9]]\n"
     ]
    }
   ],
   "source": [
    "cm_iris = confusion_matrix(y_test_iris, y_pred_iris)\n",
    "print(cm_iris)"
   ],
   "metadata": {
    "collapsed": false,
    "ExecuteTime": {
     "end_time": "2023-10-17T16:03:29.019501Z",
     "start_time": "2023-10-17T16:03:28.779363Z"
    }
   },
   "id": "313899a7dea2abee"
  },
  {
   "cell_type": "code",
   "execution_count": 35,
   "outputs": [
    {
     "name": "stderr",
     "output_type": "stream",
     "text": [
      "/var/folders/c6/dvmqz81j59g3qs_b7r4gm6640000gn/T/ipykernel_4679/622496047.py:13: UserWarning: *c* argument looks like a single numeric RGB or RGBA sequence, which should be avoided as value-mapping will have precedence in case its length matches with *x* & *y*.  Please use the *color* keyword-argument or provide a 2D array with a single row if you intend to specify the same RGB or RGBA value for all points.\n",
      "  plt.scatter(X_set[y_set == j, 0], X_set[y_set == j, 1],\n"
     ]
    },
    {
     "data": {
      "text/plain": "<Figure size 640x480 with 1 Axes>",
      "image/png": "[encoded data removed]"
     },
     "metadata": {},
     "output_type": "display_data"
    },
    {
     "name": "stderr",
     "output_type": "stream",
     "text": [
      "/var/folders/c6/dvmqz81j59g3qs_b7r4gm6640000gn/T/ipykernel_4679/622496047.py:13: UserWarning: *c* argument looks like a single numeric RGB or RGBA sequence, which should be avoided as value-mapping will have precedence in case its length matches with *x* & *y*.  Please use the *color* keyword-argument or provide a 2D array with a single row if you intend to specify the same RGB or RGBA value for all points.\n",
      "  plt.scatter(X_set[y_set == j, 0], X_set[y_set == j, 1],\n"
     ]
    },
    {
     "data": {
      "text/plain": "<Figure size 640x480 with 1 Axes>",
      "image/png": "[encoded data removed]"
     },
     "metadata": {},
     "output_type": "display_data"
    }
   ],
   "source": [
    "classes_iris = ('red', 'green')\n",
    "\n",
    "drawClasses(X_train_iris, y_train_iris, 0, 1, 'Training set', 'Sepal length', 'Petal length', classes_iris,\n",
    "            classifier_iris)\n",
    "drawClasses(X_test_iris, y_test_iris, 0, 1, 'Test set', 'Sepal length', 'Petal length', classes_iris, classifier_iris)"
   ],
   "metadata": {
    "collapsed": false,
    "ExecuteTime": {
     "end_time": "2023-10-17T16:03:29.411973Z",
     "start_time": "2023-10-17T16:03:28.784095Z"
    }
   },
   "id": "b9b5d3288b482b04"
  },
  {
   "cell_type": "markdown",
   "source": [
    "## Problem 3\n",
    "- Study the python code `template_ANN.py` where an ANN is applied on the Churn Modelling dataset.\n",
    "  Used architecture: ((6,'relu'),(6,'relu'),(1,'sigmoid'))\n",
    "- With the trained ANN, predict the result for this person:\n",
    "  - Geography: France\n",
    "  - Credit Score: 600\n",
    "  - Gender: Male\n",
    "  - Age: 40\n",
    "  - Tenure: 3\n",
    "  - Balance: 60000\n",
    "  - Number of Products: 2\n",
    "  - Has Credit Card: Yes\n",
    "  - Is Active Member: Yes\n",
    "  - Estimated Salary: 50000"
   ],
   "metadata": {
    "collapsed": false
   },
   "id": "92a611491d2e3b4b"
  },
  {
   "cell_type": "code",
   "execution_count": 36,
   "outputs": [],
   "source": [
    "# Importing the libraries\n",
    "import numpy as np\n",
    "import matplotlib.pyplot as plt\n",
    "import pandas as pd"
   ],
   "metadata": {
    "collapsed": false,
    "ExecuteTime": {
     "end_time": "2023-10-17T16:03:29.412239Z",
     "start_time": "2023-10-17T16:03:29.372180Z"
    }
   },
   "id": "13f1eac0e06e53ab"
  },
  {
   "cell_type": "markdown",
   "source": [
    "Loading the data, encoding, splitting the dataset and scaling"
   ],
   "metadata": {
    "collapsed": false
   },
   "id": "457cdf151caa54d"
  },
  {
   "cell_type": "code",
   "execution_count": 37,
   "outputs": [],
   "source": [
    "# Importing the dataset\n",
    "dataset = pd.read_csv('../Datasets/Churn_Modelling.csv')\n",
    "nb_dims=dataset.shape[1]\n",
    "X = dataset.iloc[:, 3:13].values\n",
    "y = dataset.iloc[:, 13].values\n",
    "\n",
    "# Encoding categorical data\n",
    "from sklearn.preprocessing import LabelEncoder, OneHotEncoder\n",
    "labelencoder_X_1 = LabelEncoder()\n",
    "X[:, 1] = labelencoder_X_1.fit_transform(X[:, 1])\n",
    "labelencoder_X_2 = LabelEncoder()\n",
    "X[:, 2] = labelencoder_X_2.fit_transform(X[:, 2])\n",
    "\n",
    "# SKLearn >=0.22\n",
    "from sklearn.compose import ColumnTransformer\n",
    "onehotencoder = ColumnTransformer([(\"Geography\",OneHotEncoder(),[1])], remainder='passthrough')\n",
    "X = onehotencoder.fit_transform(X)\n",
    "\n",
    "X = X[:, 1:]\n",
    "\n",
    "# Splitting the dataset into the Training set and Test set\n",
    "from sklearn.model_selection import train_test_split\n",
    "X_train, X_test, y_train, y_test = train_test_split(X, y, test_size = 0.2, random_state = 0)\n",
    "\n",
    "# Feature Scaling\n",
    "from sklearn.preprocessing import StandardScaler\n",
    "sc = StandardScaler()\n",
    "X_train = sc.fit_transform(X_train)\n",
    "X_test = sc.transform(X_test)\n"
   ],
   "metadata": {
    "collapsed": false,
    "ExecuteTime": {
     "end_time": "2023-10-17T16:03:29.469922Z",
     "start_time": "2023-10-17T16:03:29.390115Z"
    }
   },
   "id": "af7f4d1825a8ef03"
  },
  {
   "cell_type": "markdown",
   "source": [
    "Defining the ANN and learning"
   ],
   "metadata": {
    "collapsed": false
   },
   "id": "e3283252be6027b3"
  },
  {
   "cell_type": "code",
   "execution_count": 38,
   "outputs": [
    {
     "name": "stderr",
     "output_type": "stream",
     "text": [
      "2023-10-17 18:03:34.141486: I metal_plugin/src/device/metal_device.cc:1154] Metal device set to: Apple M1 Pro\n",
      "2023-10-17 18:03:34.141513: I metal_plugin/src/device/metal_device.cc:296] systemMemory: 16.00 GB\n",
      "2023-10-17 18:03:34.141519: I metal_plugin/src/device/metal_device.cc:313] maxCacheSize: 5.33 GB\n",
      "2023-10-17 18:03:34.141933: I tensorflow/core/common_runtime/pluggable_device/pluggable_device_factory.cc:303] Could not identify NUMA node of platform GPU ID 0, defaulting to 0. Your kernel may not have been built with NUMA support.\n",
      "2023-10-17 18:03:34.142177: I tensorflow/core/common_runtime/pluggable_device/pluggable_device_factory.cc:269] Created TensorFlow device (/job:localhost/replica:0/task:0/device:GPU:0 with 0 MB memory) -> physical PluggableDevice (device: 0, name: METAL, pci bus id: <undefined>)\n"
     ]
    },
    {
     "name": "stdout",
     "output_type": "stream",
     "text": [
      "Epoch 1/100\n"
     ]
    },
    {
     "name": "stderr",
     "output_type": "stream",
     "text": [
      "2023-10-17 18:03:35.266885: I tensorflow/core/grappler/optimizers/custom_graph_optimizer_registry.cc:114] Plugin optimizer for device_type GPU is enabled.\n"
     ]
    },
    {
     "name": "stdout",
     "output_type": "stream",
     "text": [
      "800/800 [==============================] - 9s 7ms/step - loss: 0.4828 - accuracy: 0.8027\n",
      "Epoch 2/100\n",
      "800/800 [==============================] - 5s 7ms/step - loss: 0.4363 - accuracy: 0.8049\n",
      "Epoch 3/100\n",
      "800/800 [==============================] - 5s 7ms/step - loss: 0.4388 - accuracy: 0.8001\n",
      "Epoch 4/100\n",
      "800/800 [==============================] - 5s 7ms/step - loss: 0.4386 - accuracy: 0.8023\n",
      "Epoch 5/100\n",
      "800/800 [==============================] - 5s 7ms/step - loss: 0.4379 - accuracy: 0.8005\n",
      "Epoch 6/100\n",
      "800/800 [==============================] - 5s 7ms/step - loss: 0.4368 - accuracy: 0.8031\n",
      "Epoch 7/100\n",
      "800/800 [==============================] - 5s 7ms/step - loss: 0.4356 - accuracy: 0.8023\n",
      "Epoch 8/100\n",
      "800/800 [==============================] - 5s 7ms/step - loss: 0.4353 - accuracy: 0.8024\n",
      "Epoch 9/100\n",
      "800/800 [==============================] - 5s 7ms/step - loss: 0.4346 - accuracy: 0.8035\n",
      "Epoch 10/100\n",
      "800/800 [==============================] - 5s 7ms/step - loss: 0.4334 - accuracy: 0.8050\n",
      "Epoch 11/100\n",
      "800/800 [==============================] - 5s 7ms/step - loss: 0.4346 - accuracy: 0.8065\n",
      "Epoch 12/100\n",
      "800/800 [==============================] - 5s 7ms/step - loss: 0.4353 - accuracy: 0.8035\n",
      "Epoch 13/100\n",
      "800/800 [==============================] - 5s 7ms/step - loss: 0.4355 - accuracy: 0.8056\n",
      "Epoch 14/100\n",
      "800/800 [==============================] - 5s 7ms/step - loss: 0.4343 - accuracy: 0.8066\n",
      "Epoch 15/100\n",
      "800/800 [==============================] - 5s 7ms/step - loss: 0.4362 - accuracy: 0.8067\n",
      "Epoch 16/100\n",
      "800/800 [==============================] - 5s 7ms/step - loss: 0.4370 - accuracy: 0.8058\n",
      "Epoch 17/100\n",
      "800/800 [==============================] - 5s 7ms/step - loss: 0.4378 - accuracy: 0.8037\n",
      "Epoch 18/100\n",
      "800/800 [==============================] - 5s 7ms/step - loss: 0.4397 - accuracy: 0.8060\n",
      "Epoch 19/100\n",
      "800/800 [==============================] - 6s 8ms/step - loss: 0.4387 - accuracy: 0.8050\n",
      "Epoch 20/100\n",
      "800/800 [==============================] - 5s 7ms/step - loss: 0.4409 - accuracy: 0.8079\n",
      "Epoch 21/100\n",
      "800/800 [==============================] - 5s 7ms/step - loss: 0.4406 - accuracy: 0.8073\n",
      "Epoch 22/100\n",
      "800/800 [==============================] - 5s 7ms/step - loss: 0.4427 - accuracy: 0.8100\n",
      "Epoch 23/100\n",
      "800/800 [==============================] - 5s 7ms/step - loss: 0.4432 - accuracy: 0.8090\n",
      "Epoch 24/100\n",
      "800/800 [==============================] - 5s 7ms/step - loss: 0.4448 - accuracy: 0.8089\n",
      "Epoch 25/100\n",
      "800/800 [==============================] - 5s 7ms/step - loss: 0.4454 - accuracy: 0.8058\n",
      "Epoch 26/100\n",
      "800/800 [==============================] - 5s 7ms/step - loss: 0.4483 - accuracy: 0.8092\n",
      "Epoch 27/100\n",
      "800/800 [==============================] - 5s 7ms/step - loss: 0.4486 - accuracy: 0.8084\n",
      "Epoch 28/100\n",
      "800/800 [==============================] - 6s 7ms/step - loss: 0.4466 - accuracy: 0.8067\n",
      "Epoch 29/100\n",
      "800/800 [==============================] - 6s 7ms/step - loss: 0.4494 - accuracy: 0.8075\n",
      "Epoch 30/100\n",
      "800/800 [==============================] - 5s 7ms/step - loss: 0.4523 - accuracy: 0.8079\n",
      "Epoch 31/100\n",
      "800/800 [==============================] - 5s 7ms/step - loss: 0.4538 - accuracy: 0.8085\n",
      "Epoch 32/100\n",
      "800/800 [==============================] - 5s 7ms/step - loss: 0.4549 - accuracy: 0.8125\n",
      "Epoch 33/100\n",
      "800/800 [==============================] - 5s 7ms/step - loss: 0.4587 - accuracy: 0.8079\n",
      "Epoch 34/100\n",
      "800/800 [==============================] - 5s 7ms/step - loss: 0.4606 - accuracy: 0.8085\n",
      "Epoch 35/100\n",
      "800/800 [==============================] - 5s 7ms/step - loss: 0.4664 - accuracy: 0.8064\n",
      "Epoch 36/100\n",
      "800/800 [==============================] - 5s 7ms/step - loss: 0.4678 - accuracy: 0.8071\n",
      "Epoch 37/100\n",
      "800/800 [==============================] - 5s 7ms/step - loss: 0.4675 - accuracy: 0.8054\n",
      "Epoch 38/100\n",
      "800/800 [==============================] - 5s 7ms/step - loss: 0.4659 - accuracy: 0.8031\n",
      "Epoch 39/100\n",
      "800/800 [==============================] - 5s 7ms/step - loss: 0.4605 - accuracy: 0.8039\n",
      "Epoch 40/100\n",
      "800/800 [==============================] - 6s 7ms/step - loss: 0.4889 - accuracy: 0.8035\n",
      "Epoch 41/100\n",
      "800/800 [==============================] - 6s 7ms/step - loss: 0.4844 - accuracy: 0.8031\n",
      "Epoch 42/100\n",
      "800/800 [==============================] - 5s 7ms/step - loss: 0.4807 - accuracy: 0.8023\n",
      "Epoch 43/100\n",
      "800/800 [==============================] - 6s 7ms/step - loss: 0.4912 - accuracy: 0.7987\n",
      "Epoch 44/100\n",
      "800/800 [==============================] - 5s 7ms/step - loss: 0.4866 - accuracy: 0.8006\n",
      "Epoch 45/100\n",
      "800/800 [==============================] - 6s 8ms/step - loss: 0.4874 - accuracy: 0.8004\n",
      "Epoch 46/100\n",
      "800/800 [==============================] - 7s 8ms/step - loss: 0.4948 - accuracy: 0.8002\n",
      "Epoch 47/100\n",
      "800/800 [==============================] - 6s 8ms/step - loss: 0.5022 - accuracy: 0.7975\n",
      "Epoch 48/100\n",
      "800/800 [==============================] - 6s 8ms/step - loss: 0.5015 - accuracy: 0.7958\n",
      "Epoch 49/100\n",
      "800/800 [==============================] - 6s 7ms/step - loss: 0.5070 - accuracy: 0.7970\n",
      "Epoch 50/100\n",
      "800/800 [==============================] - 6s 7ms/step - loss: 0.5098 - accuracy: 0.7970\n",
      "Epoch 51/100\n",
      "800/800 [==============================] - 5s 7ms/step - loss: 0.5093 - accuracy: 0.7979\n",
      "Epoch 52/100\n",
      "800/800 [==============================] - 6s 7ms/step - loss: 0.5081 - accuracy: 0.7984\n",
      "Epoch 53/100\n",
      "800/800 [==============================] - 6s 7ms/step - loss: 0.5038 - accuracy: 0.7955\n",
      "Epoch 54/100\n",
      "800/800 [==============================] - 6s 7ms/step - loss: 0.5066 - accuracy: 0.7979\n",
      "Epoch 55/100\n",
      "800/800 [==============================] - 5s 7ms/step - loss: 0.5149 - accuracy: 0.7936\n",
      "Epoch 56/100\n",
      "800/800 [==============================] - 5s 7ms/step - loss: 0.5070 - accuracy: 0.7962\n",
      "Epoch 57/100\n",
      "800/800 [==============================] - 5s 7ms/step - loss: 0.5172 - accuracy: 0.7961\n",
      "Epoch 58/100\n",
      "800/800 [==============================] - 5s 7ms/step - loss: 0.5317 - accuracy: 0.7961\n",
      "Epoch 59/100\n",
      "800/800 [==============================] - 5s 7ms/step - loss: 0.5261 - accuracy: 0.7947\n",
      "Epoch 60/100\n",
      "800/800 [==============================] - 5s 7ms/step - loss: 0.5107 - accuracy: 0.7960\n",
      "Epoch 61/100\n",
      "800/800 [==============================] - 5s 7ms/step - loss: 0.5027 - accuracy: 0.7980\n",
      "Epoch 62/100\n",
      "800/800 [==============================] - 5s 7ms/step - loss: 0.5053 - accuracy: 0.7993\n",
      "Epoch 63/100\n",
      "800/800 [==============================] - 5s 7ms/step - loss: 0.5154 - accuracy: 0.7968\n",
      "Epoch 64/100\n",
      "800/800 [==============================] - 6s 7ms/step - loss: 0.5428 - accuracy: 0.7971\n",
      "Epoch 65/100\n",
      "800/800 [==============================] - 7s 8ms/step - loss: 0.5403 - accuracy: 0.7929\n",
      "Epoch 66/100\n",
      "800/800 [==============================] - 6s 8ms/step - loss: 0.5135 - accuracy: 0.7950\n",
      "Epoch 67/100\n",
      "800/800 [==============================] - 6s 7ms/step - loss: 0.5474 - accuracy: 0.7926\n",
      "Epoch 68/100\n",
      "800/800 [==============================] - 5s 7ms/step - loss: 0.5585 - accuracy: 0.7912\n",
      "Epoch 69/100\n",
      "800/800 [==============================] - 6s 7ms/step - loss: 0.6001 - accuracy: 0.7900\n",
      "Epoch 70/100\n",
      "800/800 [==============================] - 5s 7ms/step - loss: 0.5506 - accuracy: 0.7901\n",
      "Epoch 71/100\n",
      "800/800 [==============================] - 6s 7ms/step - loss: 0.5187 - accuracy: 0.7972\n",
      "Epoch 72/100\n",
      "800/800 [==============================] - 6s 7ms/step - loss: 0.5643 - accuracy: 0.7891\n",
      "Epoch 73/100\n",
      "800/800 [==============================] - 5s 7ms/step - loss: 0.5496 - accuracy: 0.7854\n",
      "Epoch 74/100\n",
      "800/800 [==============================] - 5s 7ms/step - loss: 0.6080 - accuracy: 0.7894\n",
      "Epoch 75/100\n",
      "800/800 [==============================] - 5s 7ms/step - loss: 0.5430 - accuracy: 0.7941\n",
      "Epoch 76/100\n",
      "800/800 [==============================] - 5s 7ms/step - loss: 0.5870 - accuracy: 0.7896\n",
      "Epoch 77/100\n",
      "800/800 [==============================] - 5s 7ms/step - loss: 0.5408 - accuracy: 0.7921\n",
      "Epoch 78/100\n",
      "800/800 [==============================] - 5s 7ms/step - loss: 0.5640 - accuracy: 0.7884\n",
      "Epoch 79/100\n",
      "800/800 [==============================] - 5s 7ms/step - loss: 0.6164 - accuracy: 0.7856\n",
      "Epoch 80/100\n",
      "800/800 [==============================] - 5s 7ms/step - loss: 0.5983 - accuracy: 0.7904\n",
      "Epoch 81/100\n",
      "800/800 [==============================] - 5s 7ms/step - loss: 0.5745 - accuracy: 0.7883\n",
      "Epoch 82/100\n",
      "800/800 [==============================] - 6s 7ms/step - loss: 0.5507 - accuracy: 0.7925\n",
      "Epoch 83/100\n",
      "800/800 [==============================] - 6s 7ms/step - loss: 0.5757 - accuracy: 0.7870\n",
      "Epoch 84/100\n",
      "800/800 [==============================] - 6s 7ms/step - loss: 0.5961 - accuracy: 0.7870\n",
      "Epoch 85/100\n",
      "800/800 [==============================] - 5s 7ms/step - loss: 0.5620 - accuracy: 0.7924\n",
      "Epoch 86/100\n",
      "800/800 [==============================] - 5s 6ms/step - loss: 0.6014 - accuracy: 0.7903\n",
      "Epoch 87/100\n",
      "800/800 [==============================] - 6s 7ms/step - loss: 0.5632 - accuracy: 0.7895\n",
      "Epoch 88/100\n",
      "800/800 [==============================] - 5s 7ms/step - loss: 0.5722 - accuracy: 0.7922\n",
      "Epoch 89/100\n",
      "800/800 [==============================] - 5s 7ms/step - loss: 0.6049 - accuracy: 0.7921\n",
      "Epoch 90/100\n",
      "800/800 [==============================] - 5s 7ms/step - loss: 0.6108 - accuracy: 0.7854\n",
      "Epoch 91/100\n",
      "800/800 [==============================] - 5s 7ms/step - loss: 0.5839 - accuracy: 0.7851\n",
      "Epoch 92/100\n",
      "800/800 [==============================] - 5s 7ms/step - loss: 0.6342 - accuracy: 0.7804\n",
      "Epoch 93/100\n",
      "800/800 [==============================] - 5s 7ms/step - loss: 0.5786 - accuracy: 0.7859\n",
      "Epoch 94/100\n",
      "800/800 [==============================] - 5s 7ms/step - loss: 0.5740 - accuracy: 0.7890\n",
      "Epoch 95/100\n",
      "800/800 [==============================] - 6s 7ms/step - loss: 0.5947 - accuracy: 0.7819\n",
      "Epoch 96/100\n",
      "800/800 [==============================] - 6s 7ms/step - loss: 0.5665 - accuracy: 0.7870\n",
      "Epoch 97/100\n",
      "800/800 [==============================] - 5s 7ms/step - loss: 0.6431 - accuracy: 0.7836\n",
      "Epoch 98/100\n",
      "800/800 [==============================] - 5s 7ms/step - loss: 0.6535 - accuracy: 0.7781\n",
      "Epoch 99/100\n",
      "800/800 [==============================] - 5s 7ms/step - loss: 0.6176 - accuracy: 0.7854\n",
      "Epoch 100/100\n",
      "800/800 [==============================] - 5s 7ms/step - loss: 0.6277 - accuracy: 0.7825\n"
     ]
    },
    {
     "data": {
      "text/plain": "<keras.src.callbacks.History at 0x157e74cd0>"
     },
     "execution_count": 38,
     "metadata": {},
     "output_type": "execute_result"
    }
   ],
   "source": [
    "# Importing the Keras libraries and packages\n",
    "import keras\n",
    "from keras.models import Sequential\n",
    "from keras.layers import Dense\n",
    "\n",
    "# Initialising the ANN\n",
    "classifier = Sequential()\n",
    "\n",
    "# Adding the input layer and the first hidden layer\n",
    "classifier.add(Dense(units = 6, kernel_initializer = 'uniform', activation = 'relu', input_dim = 11))\n",
    "\n",
    "# Adding the second hidden layer\n",
    "classifier.add(Dense(units = 6, kernel_initializer = 'uniform', activation = 'relu'))\n",
    "\n",
    "# Adding the output layer\n",
    "classifier.add(Dense(units = 1, kernel_initializer = 'uniform', activation = 'sigmoid'))\n",
    "\n",
    "# Compiling the ANN\n",
    "classifier.compile(optimizer = 'adam', loss = 'binary_crossentropy', metrics = ['accuracy'])\n",
    "\n",
    "# Fitting the ANN to the Training set\n",
    "classifier.fit(X_train, y_train, batch_size = 10, epochs = 100)"
   ],
   "metadata": {
    "collapsed": false,
    "ExecuteTime": {
     "end_time": "2023-10-17T16:12:49.070901Z",
     "start_time": "2023-10-17T16:03:29.424400Z"
    }
   },
   "id": "7dd16a52fd82cb97"
  },
  {
   "cell_type": "markdown",
   "source": [
    "Predictions"
   ],
   "metadata": {
    "collapsed": false
   },
   "id": "cc1d852fcc456a83"
  },
  {
   "cell_type": "code",
   "execution_count": 39,
   "outputs": [
    {
     "name": "stdout",
     "output_type": "stream",
     "text": [
      " 1/63 [..............................] - ETA: 14s"
     ]
    },
    {
     "name": "stderr",
     "output_type": "stream",
     "text": [
      "2023-10-17 18:12:49.148395: I tensorflow/core/grappler/optimizers/custom_graph_optimizer_registry.cc:114] Plugin optimizer for device_type GPU is enabled.\n"
     ]
    },
    {
     "name": "stdout",
     "output_type": "stream",
     "text": [
      "63/63 [==============================] - 1s 5ms/step\n",
      "[[False]\n",
      " [False]\n",
      " [False]\n",
      " ...\n",
      " [ True]\n",
      " [False]\n",
      " [False]]\n",
      "[[1472  123]\n",
      " [ 316   89]]\n"
     ]
    }
   ],
   "source": [
    "# Predicting the Test set results\n",
    "y_pred = classifier.predict(X_test)\n",
    "y_pred = (y_pred > 0.5)\n",
    "\n",
    "print(y_pred)\n",
    "\n",
    "# Making the Confusion Matrix\n",
    "from sklearn.metrics import confusion_matrix\n",
    "cm = confusion_matrix(y_test, y_pred)\n",
    "\n",
    "print(cm)"
   ],
   "metadata": {
    "collapsed": false,
    "ExecuteTime": {
     "end_time": "2023-10-17T16:12:49.686747Z",
     "start_time": "2023-10-17T16:12:49.070601Z"
    }
   },
   "id": "707f5e243939d6f1"
  },
  {
   "cell_type": "code",
   "execution_count": 40,
   "outputs": [
    {
     "name": "stdout",
     "output_type": "stream",
     "text": [
      "1/1 [==============================] - 1s 603ms/step\n",
      "False\n"
     ]
    }
   ],
   "source": [
    "# Predicting a single new observation\n",
    "\n",
    "new_prediction = classifier.predict(sc.transform(np.array([[0, 0, 600, 1, 40, 3, 60000, 2, 1, 1, 50000]])))\n",
    "new_prediction = (new_prediction > 0.5)\n",
    "\n",
    "print(new_prediction[0][0])"
   ],
   "metadata": {
    "collapsed": false,
    "ExecuteTime": {
     "end_time": "2023-10-17T16:12:50.304660Z",
     "start_time": "2023-10-17T16:12:49.680324Z"
    }
   },
   "id": "9812683c655e5f20"
  },
  {
   "cell_type": "markdown",
   "source": [
    "## Problem 4 (bonus)\n",
    "Apply an ANN on the Pima Indians Diabetes dataset."
   ],
   "metadata": {
    "collapsed": false
   },
   "id": "4dcf0aec214ec428"
  }
 ],
 "metadata": {
  "kernelspec": {
   "display_name": "Python 3",
   "language": "python",
   "name": "python3"
  },
  "language_info": {
   "codemirror_mode": {
    "name": "ipython",
    "version": 2
   },
   "file_extension": ".py",
   "mimetype": "text/x-python",
   "name": "python",
   "nbconvert_exporter": "python",
   "pygments_lexer": "ipython2",
   "version": "2.7.6"
  }
 },
 "nbformat": 4,
 "nbformat_minor": 5
}
