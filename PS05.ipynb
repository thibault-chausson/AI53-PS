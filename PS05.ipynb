{
 "cells": [
  {
   "cell_type": "markdown",
   "source": [
    "# Ennoncés \n",
    "\n",
    "1) Problem 1\n",
    "Study the python code template_CNN.py where a Convolutional Neural Network is used to predict if an image is a cat or a dog.\n",
    "2) Problem 2\n",
    "Apply the CNN to predict the labels of the images in dataset/single_prediction.\n",
    "3) Problem 3\n",
    "Study the python code template_RNN.py where a LSTM recurrent neural network is used to predict the stock value of Google.\n",
    "4) Problem 4\n",
    "Think about how to use a GRU recurrent network and apply it on the same dataset to compare the results of both kinds of recurrent networks."
   ],
   "metadata": {
    "collapsed": false
   },
   "id": "e69d7467da4e8022"
  },
  {
   "cell_type": "markdown",
   "source": [
    "# Problem 1\n",
    "\n",
    "Study the python code template_CNN.py where a Convolutional Neural Network is used to predict if an image is a cat or a dog."
   ],
   "metadata": {
    "collapsed": false
   },
   "id": "612e57adbf1a37d0"
  },
  {
   "cell_type": "code",
   "execution_count": 1,
   "outputs": [
    {
     "name": "stderr",
     "output_type": "stream",
     "text": [
      "2023-11-21 16:21:03.903284: I metal_plugin/src/device/metal_device.cc:1154] Metal device set to: Apple M1 Pro\n",
      "2023-11-21 16:21:03.903304: I metal_plugin/src/device/metal_device.cc:296] systemMemory: 16.00 GB\n",
      "2023-11-21 16:21:03.903310: I metal_plugin/src/device/metal_device.cc:313] maxCacheSize: 5.33 GB\n",
      "2023-11-21 16:21:03.903345: I tensorflow/core/common_runtime/pluggable_device/pluggable_device_factory.cc:303] Could not identify NUMA node of platform GPU ID 0, defaulting to 0. Your kernel may not have been built with NUMA support.\n",
      "2023-11-21 16:21:03.903360: I tensorflow/core/common_runtime/pluggable_device/pluggable_device_factory.cc:269] Created TensorFlow device (/job:localhost/replica:0/task:0/device:GPU:0 with 0 MB memory) -> physical PluggableDevice (device: 0, name: METAL, pci bus id: <undefined>)\n"
     ]
    },
    {
     "name": "stdout",
     "output_type": "stream",
     "text": [
      "Found 8000 images belonging to 2 classes.\n",
      "Found 2000 images belonging to 2 classes.\n",
      "Epoch 1/25\n"
     ]
    },
    {
     "name": "stderr",
     "output_type": "stream",
     "text": [
      "/var/folders/c6/dvmqz81j59g3qs_b7r4gm6640000gn/T/ipykernel_3168/1224997300.py:65: UserWarning: `Model.fit_generator` is deprecated and will be removed in a future version. Please use `Model.fit`, which supports generators.\n",
      "  classifier.fit_generator(training_set,\n",
      "2023-11-21 16:21:04.990746: I tensorflow/core/grappler/optimizers/custom_graph_optimizer_registry.cc:114] Plugin optimizer for device_type GPU is enabled.\n"
     ]
    },
    {
     "name": "stdout",
     "output_type": "stream",
     "text": [
      "250/250 [==============================] - ETA: 0s - loss: 0.7027 - accuracy: 0.5460"
     ]
    },
    {
     "name": "stderr",
     "output_type": "stream",
     "text": [
      "2023-11-21 16:21:24.027168: I tensorflow/core/grappler/optimizers/custom_graph_optimizer_registry.cc:114] Plugin optimizer for device_type GPU is enabled.\n"
     ]
    },
    {
     "name": "stdout",
     "output_type": "stream",
     "text": [
      "250/250 [==============================] - 23s 90ms/step - loss: 0.7027 - accuracy: 0.5460 - val_loss: 0.6557 - val_accuracy: 0.6139\n",
      "Epoch 2/25\n",
      "250/250 [==============================] - 21s 83ms/step - loss: 0.6603 - accuracy: 0.6194 - val_loss: 0.6433 - val_accuracy: 0.6310\n",
      "Epoch 3/25\n",
      "250/250 [==============================] - 20s 82ms/step - loss: 0.6428 - accuracy: 0.6364 - val_loss: 0.6373 - val_accuracy: 0.6497\n",
      "Epoch 4/25\n",
      "250/250 [==============================] - 22s 87ms/step - loss: 0.6675 - accuracy: 0.6407 - val_loss: 0.6929 - val_accuracy: 0.6421\n",
      "Epoch 5/25\n",
      "250/250 [==============================] - 21s 84ms/step - loss: 0.9554 - accuracy: 0.6025 - val_loss: 0.7398 - val_accuracy: 0.6321\n",
      "Epoch 6/25\n",
      "250/250 [==============================] - 21s 83ms/step - loss: 1.2436 - accuracy: 0.6059 - val_loss: 2.9608 - val_accuracy: 0.5423\n",
      "Epoch 7/25\n",
      "250/250 [==============================] - 21s 83ms/step - loss: 2.0045 - accuracy: 0.5938 - val_loss: 2.0497 - val_accuracy: 0.6139\n",
      "Epoch 8/25\n",
      "250/250 [==============================] - 21s 83ms/step - loss: 5.4972 - accuracy: 0.5638 - val_loss: 3.5408 - val_accuracy: 0.5630\n",
      "Epoch 9/25\n",
      "250/250 [==============================] - 21s 84ms/step - loss: 6.7510 - accuracy: 0.5680 - val_loss: 3.0900 - val_accuracy: 0.6013\n",
      "Epoch 10/25\n",
      "250/250 [==============================] - 21s 83ms/step - loss: 10.9316 - accuracy: 0.5506 - val_loss: 10.2859 - val_accuracy: 0.5328\n",
      "Epoch 11/25\n",
      "250/250 [==============================] - 20s 81ms/step - loss: 13.4578 - accuracy: 0.5462 - val_loss: 6.7520 - val_accuracy: 0.5721\n",
      "Epoch 12/25\n",
      "250/250 [==============================] - 20s 81ms/step - loss: 15.7674 - accuracy: 0.5499 - val_loss: 9.9506 - val_accuracy: 0.5726\n",
      "Epoch 13/25\n",
      "250/250 [==============================] - 21s 82ms/step - loss: 20.4929 - accuracy: 0.5350 - val_loss: 39.1242 - val_accuracy: 0.4788\n",
      "Epoch 14/25\n",
      "250/250 [==============================] - 21s 82ms/step - loss: 26.5321 - accuracy: 0.5504 - val_loss: 27.1950 - val_accuracy: 0.5418\n",
      "Epoch 15/25\n",
      "250/250 [==============================] - 21s 83ms/step - loss: 25.3417 - accuracy: 0.5497 - val_loss: 16.6598 - val_accuracy: 0.5600\n",
      "Epoch 16/25\n",
      "250/250 [==============================] - 22s 89ms/step - loss: 26.0158 - accuracy: 0.5690 - val_loss: 52.0033 - val_accuracy: 0.5197\n",
      "Epoch 17/25\n",
      "250/250 [==============================] - 22s 89ms/step - loss: 35.8122 - accuracy: 0.5469 - val_loss: 32.6375 - val_accuracy: 0.5348\n",
      "Epoch 18/25\n",
      "250/250 [==============================] - 22s 89ms/step - loss: 57.5811 - accuracy: 0.5325 - val_loss: 23.9211 - val_accuracy: 0.5549\n",
      "Epoch 19/25\n",
      "250/250 [==============================] - 22s 88ms/step - loss: 50.0354 - accuracy: 0.5386 - val_loss: 37.5039 - val_accuracy: 0.5817\n",
      "Epoch 20/25\n",
      "250/250 [==============================] - 22s 88ms/step - loss: 60.5560 - accuracy: 0.5428 - val_loss: 68.3765 - val_accuracy: 0.5166\n",
      "Epoch 21/25\n",
      "250/250 [==============================] - 23s 90ms/step - loss: 75.0888 - accuracy: 0.5296 - val_loss: 36.6044 - val_accuracy: 0.5756\n",
      "Epoch 22/25\n",
      "250/250 [==============================] - 22s 89ms/step - loss: 87.4552 - accuracy: 0.5332 - val_loss: 68.0804 - val_accuracy: 0.5091\n",
      "Epoch 23/25\n",
      "250/250 [==============================] - 21s 83ms/step - loss: 77.7400 - accuracy: 0.5371 - val_loss: 76.6118 - val_accuracy: 0.5111\n",
      "Epoch 24/25\n",
      "250/250 [==============================] - 21s 83ms/step - loss: 67.0985 - accuracy: 0.5430 - val_loss: 116.8635 - val_accuracy: 0.5010\n",
      "Epoch 25/25\n",
      "250/250 [==============================] - 21s 83ms/step - loss: 60.2537 - accuracy: 0.5501 - val_loss: 52.8055 - val_accuracy: 0.5156\n"
     ]
    },
    {
     "data": {
      "text/plain": "<keras.src.callbacks.History at 0x16ecab280>"
     },
     "execution_count": 1,
     "metadata": {},
     "output_type": "execute_result"
    }
   ],
   "source": [
    "# Convolutional Neural Network\n",
    "\n",
    "# Installing Theano\n",
    "# pip install --upgrade --no-deps git+git://github.com/Theano/Theano.git\n",
    "\n",
    "# Installing Tensorflow\n",
    "# pip install tensorflow\n",
    "\n",
    "# Installing Keras\n",
    "# pip install --upgrade keras\n",
    "\n",
    "# Part 1 - Building the CNN\n",
    "\n",
    "# Importing the Keras libraries and packages\n",
    "from keras.models import Sequential\n",
    "from keras.layers import Conv2D\n",
    "from keras.layers import MaxPooling2D\n",
    "from keras.layers import Flatten\n",
    "from keras.layers import Dense\n",
    "\n",
    "# Initialising the CNN\n",
    "classifier = Sequential()\n",
    "\n",
    "# Step 1 - Convolution\n",
    "classifier.add(Conv2D(32, (3, 3), input_shape = (64, 64, 3), activation = 'relu'))\n",
    "\n",
    "# Step 2 - Pooling\n",
    "classifier.add(MaxPooling2D(pool_size = (2, 2)))\n",
    "\n",
    "# Adding a second convolutional layer\n",
    "classifier.add(Conv2D(32, (3, 3), activation = 'relu'))\n",
    "classifier.add(MaxPooling2D(pool_size = (2, 2)))\n",
    "\n",
    "# Step 3 - Flattening\n",
    "classifier.add(Flatten())\n",
    "\n",
    "# Step 4 - Full connection\n",
    "classifier.add(Dense(units = 128, activation = 'relu'))\n",
    "classifier.add(Dense(units = 1, activation = 'sigmoid'))\n",
    "\n",
    "# Compiling the CNN\n",
    "classifier.compile(optimizer = 'adam', loss = 'binary_crossentropy', metrics = ['accuracy'])\n",
    "\n",
    "# Part 2 - Fitting the CNN to the images\n",
    "\n",
    "from keras.preprocessing.image import ImageDataGenerator\n",
    "\n",
    "train_datagen = ImageDataGenerator(rescale = 1./255,\n",
    "                                   shear_range = 0.2,\n",
    "                                   zoom_range = 0.2,\n",
    "                                   horizontal_flip = True)\n",
    "\n",
    "test_datagen = ImageDataGenerator(rescale = 1./255)\n",
    "\n",
    "training_set = train_datagen.flow_from_directory('Datasets/CNN/training_set',\n",
    "                                                 target_size = (64, 64),\n",
    "                                                 batch_size = 32,\n",
    "                                                 class_mode = 'binary')\n",
    "\n",
    "test_set = test_datagen.flow_from_directory('Datasets/CNN/test_set',\n",
    "                                            target_size = (64, 64),\n",
    "                                            batch_size = 32,\n",
    "                                            class_mode = 'binary')\n",
    "\n",
    "classifier.fit_generator(training_set,\n",
    "                         steps_per_epoch = 8000//32,\n",
    "                         epochs = 25,\n",
    "                         validation_data = test_set,\n",
    "                         validation_steps = 2000//32)"
   ],
   "metadata": {
    "collapsed": false,
    "ExecuteTime": {
     "end_time": "2023-11-21T15:29:55.914779Z",
     "start_time": "2023-11-21T15:21:00.449285Z"
    }
   },
   "id": "59d8216ce500e9d5"
  },
  {
   "cell_type": "code",
   "execution_count": 2,
   "outputs": [
    {
     "name": "stderr",
     "output_type": "stream",
     "text": [
      "/Users/thibaultchausson/miniconda3/envs/AI53/lib/python3.8/site-packages/keras/src/engine/training.py:3000: UserWarning: You are saving your model as an HDF5 file via `model.save()`. This file format is considered legacy. We recommend using instead the native Keras format, e.g. `model.save('my_model.keras')`.\n",
      "  saving_api.save_model(\n"
     ]
    }
   ],
   "source": [
    "# Sauvegarder le modèle\n",
    "classifier.save('chien_or_chat.h5')"
   ],
   "metadata": {
    "collapsed": false,
    "ExecuteTime": {
     "end_time": "2023-11-21T15:30:30.239339Z",
     "start_time": "2023-11-21T15:30:30.198137Z"
    }
   },
   "id": "a88601f3c4a72b84"
  },
  {
   "cell_type": "markdown",
   "source": [
    "# Problem 2\n",
    "Apply the CNN to predict the labels of the images in dataset/single_prediction."
   ],
   "metadata": {
    "collapsed": false
   },
   "id": "b739392aea691b3c"
  },
  {
   "cell_type": "code",
   "execution_count": 6,
   "outputs": [
    {
     "name": "stderr",
     "output_type": "stream",
     "text": [
      "2023-11-21 16:31:23.343738: I tensorflow/core/grappler/optimizers/custom_graph_optimizer_registry.cc:114] Plugin optimizer for device_type GPU is enabled.\n"
     ]
    },
    {
     "name": "stdout",
     "output_type": "stream",
     "text": [
      "1/1 [==============================] - 1s 685ms/step\n",
      "chien\n",
      "1/1 [==============================] - 0s 13ms/step\n",
      "chat\n"
     ]
    }
   ],
   "source": [
    "# Use the trained model to predict cat or dog\n",
    "# Image to predict is in dataset/single_prediction/cat_or_dog_1.jpg and dataset/single_prediction/cat_or_dog_2.jpg\n",
    "\n",
    "from keras.preprocessing import image\n",
    "from keras.models import load_model\n",
    "import numpy as np\n",
    "\n",
    "# Charger le modèle\n",
    "# Si vous avez déjà un modèle sauvegardé :\n",
    "# classifier = load_model('chien_or_chat.h5')\n",
    "\n",
    "tableau_chemin = ['Datasets/CNN/single_prediction/cat_or_dog_1.jpg', 'Datasets/CNN/single_prediction/cat_or_dog_2.jpg']\n",
    "\n",
    "\n",
    "for k in range(len(tableau_chemin)):\n",
    "    # Prétraiter l'image\n",
    "    image_test = image.load_img(tableau_chemin[k], target_size = (64, 64)) # Charger l'image et on a met à la taille 64x64 comme on a fait pour entrainer le modèle\n",
    "    image_test = image.img_to_array(image_test) # Convertir l'image en tableau numpy\n",
    "    image_test = np.expand_dims(image_test, axis = 0) # Ajouter une dimension pour avoir un batch de 1 image\n",
    "    image_test = image_test / 255.0 # Normaliser l'image\n",
    "    \n",
    "    # Prédiction\n",
    "    resultat = classifier.predict(image_test)\n",
    "    if resultat[0][0] >= 0.5:\n",
    "        prediction = 'chien'\n",
    "    else:\n",
    "        prediction = 'chat'\n",
    "    \n",
    "    print(prediction)"
   ],
   "metadata": {
    "collapsed": false,
    "ExecuteTime": {
     "end_time": "2023-11-21T15:31:24.069348Z",
     "start_time": "2023-11-21T15:31:23.260044Z"
    }
   },
   "id": "6b284e10ccfbeb31"
  },
  {
   "cell_type": "markdown",
   "source": [
    "# Problem 3\n",
    "Study the python code template_RNN.py where a LSTM recurrent neural network is used to predict the stock value of Google."
   ],
   "metadata": {
    "collapsed": false
   },
   "id": "cedf3ebccdfa2d40"
  },
  {
   "cell_type": "code",
   "execution_count": 7,
   "outputs": [
    {
     "name": "stdout",
     "output_type": "stream",
     "text": [
      "Epoch 1/100\n"
     ]
    },
    {
     "name": "stderr",
     "output_type": "stream",
     "text": [
      "2023-11-21 16:41:36.616575: I tensorflow/core/grappler/optimizers/custom_graph_optimizer_registry.cc:114] Plugin optimizer for device_type GPU is enabled.\n",
      "2023-11-21 16:41:36.969565: I tensorflow/core/grappler/optimizers/custom_graph_optimizer_registry.cc:114] Plugin optimizer for device_type GPU is enabled.\n",
      "2023-11-21 16:41:37.668668: I tensorflow/core/grappler/optimizers/custom_graph_optimizer_registry.cc:114] Plugin optimizer for device_type GPU is enabled.\n",
      "2023-11-21 16:41:37.747257: I tensorflow/core/grappler/optimizers/custom_graph_optimizer_registry.cc:114] Plugin optimizer for device_type GPU is enabled.\n",
      "2023-11-21 16:41:37.825892: I tensorflow/core/grappler/optimizers/custom_graph_optimizer_registry.cc:114] Plugin optimizer for device_type GPU is enabled.\n",
      "2023-11-21 16:41:38.271110: I tensorflow/core/grappler/optimizers/custom_graph_optimizer_registry.cc:114] Plugin optimizer for device_type GPU is enabled.\n",
      "2023-11-21 16:41:39.286944: I tensorflow/core/grappler/optimizers/custom_graph_optimizer_registry.cc:114] Plugin optimizer for device_type GPU is enabled.\n",
      "2023-11-21 16:41:39.419928: I tensorflow/core/grappler/optimizers/custom_graph_optimizer_registry.cc:114] Plugin optimizer for device_type GPU is enabled.\n",
      "2023-11-21 16:41:39.557615: I tensorflow/core/grappler/optimizers/custom_graph_optimizer_registry.cc:114] Plugin optimizer for device_type GPU is enabled.\n"
     ]
    },
    {
     "name": "stdout",
     "output_type": "stream",
     "text": [
      "37/37 [==============================] - 7s 48ms/step - loss: 0.0339\n",
      "Epoch 2/100\n",
      "37/37 [==============================] - 1s 36ms/step - loss: 0.0044\n",
      "Epoch 3/100\n",
      "37/37 [==============================] - 1s 36ms/step - loss: 0.0033\n",
      "Epoch 4/100\n",
      "37/37 [==============================] - 1s 37ms/step - loss: 0.0028\n",
      "Epoch 5/100\n",
      "37/37 [==============================] - 1s 37ms/step - loss: 0.0023\n",
      "Epoch 6/100\n",
      "37/37 [==============================] - 1s 36ms/step - loss: 0.0023\n",
      "Epoch 7/100\n",
      "37/37 [==============================] - 1s 37ms/step - loss: 0.0022\n",
      "Epoch 8/100\n",
      "37/37 [==============================] - 1s 36ms/step - loss: 0.0022\n",
      "Epoch 9/100\n",
      "37/37 [==============================] - 1s 36ms/step - loss: 0.0021\n",
      "Epoch 10/100\n",
      "37/37 [==============================] - 1s 37ms/step - loss: 0.0020\n",
      "Epoch 11/100\n",
      "37/37 [==============================] - 1s 37ms/step - loss: 0.0018\n",
      "Epoch 12/100\n",
      "37/37 [==============================] - 1s 36ms/step - loss: 0.0016\n",
      "Epoch 13/100\n",
      "37/37 [==============================] - 1s 37ms/step - loss: 0.0018\n",
      "Epoch 14/100\n",
      "37/37 [==============================] - 1s 36ms/step - loss: 0.0015\n",
      "Epoch 15/100\n",
      "37/37 [==============================] - 1s 37ms/step - loss: 0.0016\n",
      "Epoch 16/100\n",
      "37/37 [==============================] - 1s 37ms/step - loss: 0.0022\n",
      "Epoch 17/100\n",
      "37/37 [==============================] - 1s 37ms/step - loss: 0.0019\n",
      "Epoch 18/100\n",
      "37/37 [==============================] - 1s 37ms/step - loss: 0.0014\n",
      "Epoch 19/100\n",
      "37/37 [==============================] - 1s 38ms/step - loss: 0.0014\n",
      "Epoch 20/100\n",
      "37/37 [==============================] - 1s 38ms/step - loss: 0.0018\n",
      "Epoch 21/100\n",
      "37/37 [==============================] - 1s 36ms/step - loss: 0.0014\n",
      "Epoch 22/100\n",
      "37/37 [==============================] - 1s 36ms/step - loss: 0.0015\n",
      "Epoch 23/100\n",
      "37/37 [==============================] - 1s 37ms/step - loss: 0.0015\n",
      "Epoch 24/100\n",
      "37/37 [==============================] - 1s 36ms/step - loss: 0.0017\n",
      "Epoch 25/100\n",
      "37/37 [==============================] - 1s 37ms/step - loss: 0.0014\n",
      "Epoch 26/100\n",
      "37/37 [==============================] - 1s 37ms/step - loss: 0.0013\n",
      "Epoch 27/100\n",
      "37/37 [==============================] - 2s 42ms/step - loss: 0.0012\n",
      "Epoch 28/100\n",
      "37/37 [==============================] - 1s 38ms/step - loss: 0.0012\n",
      "Epoch 29/100\n",
      "37/37 [==============================] - 1s 37ms/step - loss: 0.0012\n",
      "Epoch 30/100\n",
      "37/37 [==============================] - 1s 39ms/step - loss: 0.0011\n",
      "Epoch 31/100\n",
      "37/37 [==============================] - 1s 36ms/step - loss: 0.0011\n",
      "Epoch 32/100\n",
      "37/37 [==============================] - 1s 36ms/step - loss: 0.0017\n",
      "Epoch 33/100\n",
      "37/37 [==============================] - 1s 38ms/step - loss: 0.0012\n",
      "Epoch 34/100\n",
      "37/37 [==============================] - 1s 36ms/step - loss: 0.0011\n",
      "Epoch 35/100\n",
      "37/37 [==============================] - 1s 36ms/step - loss: 0.0011\n",
      "Epoch 36/100\n",
      "37/37 [==============================] - 1s 37ms/step - loss: 0.0011\n",
      "Epoch 37/100\n",
      "37/37 [==============================] - 1s 38ms/step - loss: 0.0011\n",
      "Epoch 38/100\n",
      "37/37 [==============================] - 1s 39ms/step - loss: 0.0010\n",
      "Epoch 39/100\n",
      "37/37 [==============================] - 1s 38ms/step - loss: 0.0011\n",
      "Epoch 40/100\n",
      "37/37 [==============================] - 1s 37ms/step - loss: 0.0011\n",
      "Epoch 41/100\n",
      "37/37 [==============================] - 1s 36ms/step - loss: 0.0011\n",
      "Epoch 42/100\n",
      "37/37 [==============================] - 1s 37ms/step - loss: 9.2938e-04\n",
      "Epoch 43/100\n",
      "37/37 [==============================] - 1s 37ms/step - loss: 8.7328e-04\n",
      "Epoch 44/100\n",
      "37/37 [==============================] - 1s 37ms/step - loss: 0.0010\n",
      "Epoch 45/100\n",
      "37/37 [==============================] - 1s 37ms/step - loss: 0.0011\n",
      "Epoch 46/100\n",
      "37/37 [==============================] - 1s 37ms/step - loss: 9.0257e-04\n",
      "Epoch 47/100\n",
      "37/37 [==============================] - 1s 38ms/step - loss: 8.4916e-04\n",
      "Epoch 48/100\n",
      "37/37 [==============================] - 1s 38ms/step - loss: 8.1861e-04\n",
      "Epoch 49/100\n",
      "37/37 [==============================] - 1s 36ms/step - loss: 9.2034e-04\n",
      "Epoch 50/100\n",
      "37/37 [==============================] - 1s 36ms/step - loss: 7.8360e-04\n",
      "Epoch 51/100\n",
      "37/37 [==============================] - 1s 38ms/step - loss: 8.2608e-04\n",
      "Epoch 52/100\n",
      "37/37 [==============================] - 1s 36ms/step - loss: 7.6478e-04\n",
      "Epoch 53/100\n",
      "37/37 [==============================] - 1s 35ms/step - loss: 7.7668e-04\n",
      "Epoch 54/100\n",
      "37/37 [==============================] - 1s 37ms/step - loss: 7.3779e-04\n",
      "Epoch 55/100\n",
      "37/37 [==============================] - 1s 36ms/step - loss: 7.1563e-04\n",
      "Epoch 56/100\n",
      "37/37 [==============================] - 1s 36ms/step - loss: 7.6581e-04\n",
      "Epoch 57/100\n",
      "37/37 [==============================] - 1s 35ms/step - loss: 7.3361e-04\n",
      "Epoch 58/100\n",
      "37/37 [==============================] - 1s 36ms/step - loss: 7.2018e-04\n",
      "Epoch 59/100\n",
      "37/37 [==============================] - 1s 35ms/step - loss: 7.4581e-04\n",
      "Epoch 60/100\n",
      "37/37 [==============================] - 1s 35ms/step - loss: 7.3480e-04\n",
      "Epoch 61/100\n",
      "37/37 [==============================] - 1s 36ms/step - loss: 6.3489e-04\n",
      "Epoch 62/100\n",
      "37/37 [==============================] - 1s 35ms/step - loss: 6.1695e-04\n",
      "Epoch 63/100\n",
      "37/37 [==============================] - 1s 36ms/step - loss: 6.3906e-04\n",
      "Epoch 64/100\n",
      "37/37 [==============================] - 1s 36ms/step - loss: 7.3108e-04\n",
      "Epoch 65/100\n",
      "37/37 [==============================] - 1s 36ms/step - loss: 5.5288e-04\n",
      "Epoch 66/100\n",
      "37/37 [==============================] - 1s 36ms/step - loss: 6.1276e-04\n",
      "Epoch 67/100\n",
      "37/37 [==============================] - 1s 36ms/step - loss: 6.1883e-04\n",
      "Epoch 68/100\n",
      "37/37 [==============================] - 1s 37ms/step - loss: 6.0262e-04\n",
      "Epoch 69/100\n",
      "37/37 [==============================] - 1s 36ms/step - loss: 5.2193e-04\n",
      "Epoch 70/100\n",
      "37/37 [==============================] - 1s 36ms/step - loss: 5.9534e-04\n",
      "Epoch 71/100\n",
      "37/37 [==============================] - 1s 36ms/step - loss: 5.4134e-04\n",
      "Epoch 72/100\n",
      "37/37 [==============================] - 1s 36ms/step - loss: 5.4973e-04\n",
      "Epoch 73/100\n",
      "37/37 [==============================] - 1s 37ms/step - loss: 5.1872e-04\n",
      "Epoch 74/100\n",
      "37/37 [==============================] - 1s 39ms/step - loss: 5.1711e-04\n",
      "Epoch 75/100\n",
      "37/37 [==============================] - 1s 38ms/step - loss: 4.9703e-04\n",
      "Epoch 76/100\n",
      "37/37 [==============================] - 1s 36ms/step - loss: 4.1586e-04\n",
      "Epoch 77/100\n",
      "37/37 [==============================] - 1s 37ms/step - loss: 4.1768e-04\n",
      "Epoch 78/100\n",
      "37/37 [==============================] - 1s 36ms/step - loss: 5.1985e-04\n",
      "Epoch 79/100\n",
      "37/37 [==============================] - 1s 36ms/step - loss: 4.9153e-04\n",
      "Epoch 80/100\n",
      "37/37 [==============================] - 1s 37ms/step - loss: 4.1045e-04\n",
      "Epoch 81/100\n",
      "37/37 [==============================] - 1s 36ms/step - loss: 4.8118e-04\n",
      "Epoch 82/100\n",
      "37/37 [==============================] - 1s 37ms/step - loss: 4.6628e-04\n",
      "Epoch 83/100\n",
      "37/37 [==============================] - 1s 36ms/step - loss: 5.0486e-04\n",
      "Epoch 84/100\n",
      "37/37 [==============================] - 1s 36ms/step - loss: 6.1460e-04\n",
      "Epoch 85/100\n",
      "37/37 [==============================] - 1s 36ms/step - loss: 4.3442e-04\n",
      "Epoch 86/100\n",
      "37/37 [==============================] - 1s 37ms/step - loss: 3.8937e-04\n",
      "Epoch 87/100\n",
      "37/37 [==============================] - 1s 36ms/step - loss: 5.1556e-04\n",
      "Epoch 88/100\n",
      "37/37 [==============================] - 1s 36ms/step - loss: 6.2615e-04\n",
      "Epoch 89/100\n",
      "37/37 [==============================] - 1s 36ms/step - loss: 4.1228e-04\n",
      "Epoch 90/100\n",
      "37/37 [==============================] - 1s 37ms/step - loss: 4.1904e-04\n",
      "Epoch 91/100\n",
      "37/37 [==============================] - 1s 36ms/step - loss: 3.8557e-04\n",
      "Epoch 92/100\n",
      "37/37 [==============================] - 1s 38ms/step - loss: 3.7286e-04\n",
      "Epoch 93/100\n",
      "37/37 [==============================] - 1s 37ms/step - loss: 3.5629e-04\n",
      "Epoch 94/100\n",
      "37/37 [==============================] - 1s 39ms/step - loss: 3.6742e-04\n",
      "Epoch 95/100\n",
      "37/37 [==============================] - 1s 38ms/step - loss: 4.5475e-04\n",
      "Epoch 96/100\n",
      "37/37 [==============================] - 1s 37ms/step - loss: 5.8491e-04\n",
      "Epoch 97/100\n",
      "37/37 [==============================] - 1s 36ms/step - loss: 4.8915e-04\n",
      "Epoch 98/100\n",
      "37/37 [==============================] - 1s 36ms/step - loss: 4.1244e-04\n",
      "Epoch 99/100\n",
      "37/37 [==============================] - 1s 36ms/step - loss: 5.0664e-04\n",
      "Epoch 100/100\n",
      "37/37 [==============================] - 1s 36ms/step - loss: 4.3895e-04\n"
     ]
    },
    {
     "name": "stderr",
     "output_type": "stream",
     "text": [
      "2023-11-21 16:43:56.965573: I tensorflow/core/grappler/optimizers/custom_graph_optimizer_registry.cc:114] Plugin optimizer for device_type GPU is enabled.\n",
      "2023-11-21 16:43:57.113748: I tensorflow/core/grappler/optimizers/custom_graph_optimizer_registry.cc:114] Plugin optimizer for device_type GPU is enabled.\n",
      "2023-11-21 16:43:57.203424: I tensorflow/core/grappler/optimizers/custom_graph_optimizer_registry.cc:114] Plugin optimizer for device_type GPU is enabled.\n",
      "2023-11-21 16:43:57.269739: I tensorflow/core/grappler/optimizers/custom_graph_optimizer_registry.cc:114] Plugin optimizer for device_type GPU is enabled.\n",
      "2023-11-21 16:43:57.338522: I tensorflow/core/grappler/optimizers/custom_graph_optimizer_registry.cc:114] Plugin optimizer for device_type GPU is enabled.\n"
     ]
    },
    {
     "name": "stdout",
     "output_type": "stream",
     "text": [
      "2/2 [==============================] - 1s 111ms/step\n"
     ]
    },
    {
     "data": {
      "text/plain": "<Figure size 640x480 with 1 Axes>",
      "image/png": "[encoded data removed]"
     },
     "metadata": {},
     "output_type": "display_data"
    }
   ],
   "source": [
    "# Recurrent Neural Network\n",
    "\n",
    "\n",
    "# Part 1 - Data Preprocessing\n",
    "\n",
    "# Importing the libraries\n",
    "import numpy as np\n",
    "\n",
    "from templates.rnn_functions import build_series,load_regressor,load_dataset,build_regressor,get_subset,apply_inverse_transform,plot_stock_prices\n",
    "\n",
    "\n",
    "stock_file='./Datasets/RNN/Google_Stock_Price'\n",
    "n_obs=60\n",
    "n_test_examples=50\n",
    "regressor_filename=None\n",
    "features=['Open','High','Low']\n",
    "rnn_structure=(50,50,50,50)\n",
    "n_epochs=100\n",
    "\n",
    "\n",
    "training_set,training_set_scaled,sc,real_stock_price,real_stock_price_scaled=load_dataset('{}.PA.csv'.format(stock_file),n_test_examples,features)\n",
    "\n",
    "# Creating a data structure with 60 timesteps and 1 output\n",
    "X_train = build_series(training_set_scaled,n_obs)\n",
    "\n",
    "id_price=0\n",
    "y_train = np.array(training_set_scaled[n_obs:,id_price])\n",
    "\n",
    "\n",
    "# Part 2 - Build or load the RNN\n",
    "\n",
    "if regressor_filename is None:\n",
    "    # Part 2 - Building the RNN    \n",
    "    regressor=build_regressor(rnn_structure,(X_train.shape[1], X_train.shape[2]),dropout=0.2)\n",
    "    \n",
    "    # Fitting the RNN to the Training set\n",
    "    regressor.fit(X_train, y_train, epochs = n_epochs, batch_size = 32)\n",
    "else:\n",
    "    regressor=load_regressor(regressor_filename)\n",
    "\n",
    "\n",
    "# Part 3 - Making the predictions and visualising the results\n",
    "\n",
    "# Getting the predicted stock price\n",
    "inputs=get_subset(training_set_scaled,real_stock_price_scaled,n_obs)\n",
    "\n",
    "X_test=build_series(inputs,n_obs)\n",
    "\n",
    "predicted_stock_price = regressor.predict(X_test)\n",
    "predicted_stock_price = apply_inverse_transform( predicted_stock_price, X_train.shape[2], sc )\n",
    "\n",
    "# Visualising the results\n",
    "plot_stock_prices(real_stock_price,predicted_stock_price)"
   ],
   "metadata": {
    "collapsed": false,
    "ExecuteTime": {
     "end_time": "2023-11-21T15:43:57.968904Z",
     "start_time": "2023-11-21T15:41:28.311018Z"
    }
   },
   "id": "b3e4a8f90ffb810d"
  },
  {
   "cell_type": "markdown",
   "source": [
    "# Problem 4\n",
    "Think about how to use a GRU recurrent network and apply it on the same dataset to compare the results of both kinds of recurrent networks."
   ],
   "metadata": {
    "collapsed": false
   },
   "id": "edb8098e73dd0180"
  },
  {
   "cell_type": "code",
   "execution_count": null,
   "outputs": [],
   "source": [],
   "metadata": {
    "collapsed": false
   },
   "id": "c705a780ad502c6b"
  }
 ],
 "metadata": {
  "kernelspec": {
   "display_name": "Python 3",
   "language": "python",
   "name": "python3"
  },
  "language_info": {
   "codemirror_mode": {
    "name": "ipython",
    "version": 2
   },
   "file_extension": ".py",
   "mimetype": "text/x-python",
   "name": "python",
   "nbconvert_exporter": "python",
   "pygments_lexer": "ipython2",
   "version": "2.7.6"
  }
 },
 "nbformat": 4,
 "nbformat_minor": 5
}
