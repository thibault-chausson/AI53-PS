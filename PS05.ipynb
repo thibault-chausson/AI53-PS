{
 "cells": [
  {
   "cell_type": "markdown",
   "source": [
    "# Ennoncés \n",
    "\n",
    "1) Problem 1\n",
    "Study the python code template_CNN.py where a Convolutional Neural Network is used to predict if an image is a cat or a dog.\n",
    "2) Problem 2\n",
    "Apply the CNN to predict the labels of the images in dataset/single_prediction.\n",
    "3) Problem 3\n",
    "Study the python code template_RNN.py where a LSTM recurrent neural network is used to predict the stock value of Google.\n",
    "4) Problem 4\n",
    "Think about how to use a GRU recurrent network and apply it on the same dataset to compare the results of both kinds of recurrent networks."
   ],
   "metadata": {
    "collapsed": false
   },
   "id": "e69d7467da4e8022"
  },
  {
   "cell_type": "markdown",
   "source": [
    "# Problem 1\n",
    "\n",
    "Study the python code template_CNN.py where a Convolutional Neural Network is used to predict if an image is a cat or a dog."
   ],
   "metadata": {
    "collapsed": false
   },
   "id": "612e57adbf1a37d0"
  },
  {
   "cell_type": "code",
   "execution_count": 1,
   "outputs": [
    {
     "name": "stderr",
     "output_type": "stream",
     "text": [
      "2023-11-21 16:21:03.903284: I metal_plugin/src/device/metal_device.cc:1154] Metal device set to: Apple M1 Pro\n",
      "2023-11-21 16:21:03.903304: I metal_plugin/src/device/metal_device.cc:296] systemMemory: 16.00 GB\n",
      "2023-11-21 16:21:03.903310: I metal_plugin/src/device/metal_device.cc:313] maxCacheSize: 5.33 GB\n",
      "2023-11-21 16:21:03.903345: I tensorflow/core/common_runtime/pluggable_device/pluggable_device_factory.cc:303] Could not identify NUMA node of platform GPU ID 0, defaulting to 0. Your kernel may not have been built with NUMA support.\n",
      "2023-11-21 16:21:03.903360: I tensorflow/core/common_runtime/pluggable_device/pluggable_device_factory.cc:269] Created TensorFlow device (/job:localhost/replica:0/task:0/device:GPU:0 with 0 MB memory) -> physical PluggableDevice (device: 0, name: METAL, pci bus id: <undefined>)\n"
     ]
    },
    {
     "name": "stdout",
     "output_type": "stream",
     "text": [
      "Found 8000 images belonging to 2 classes.\n",
      "Found 2000 images belonging to 2 classes.\n",
      "Epoch 1/25\n"
     ]
    },
    {
     "name": "stderr",
     "output_type": "stream",
     "text": [
      "/var/folders/c6/dvmqz81j59g3qs_b7r4gm6640000gn/T/ipykernel_3168/1224997300.py:65: UserWarning: `Model.fit_generator` is deprecated and will be removed in a future version. Please use `Model.fit`, which supports generators.\n",
      "  classifier.fit_generator(training_set,\n",
      "2023-11-21 16:21:04.990746: I tensorflow/core/grappler/optimizers/custom_graph_optimizer_registry.cc:114] Plugin optimizer for device_type GPU is enabled.\n"
     ]
    },
    {
     "name": "stdout",
     "output_type": "stream",
     "text": [
      "250/250 [==============================] - ETA: 0s - loss: 0.7027 - accuracy: 0.5460"
     ]
    },
    {
     "name": "stderr",
     "output_type": "stream",
     "text": [
      "2023-11-21 16:21:24.027168: I tensorflow/core/grappler/optimizers/custom_graph_optimizer_registry.cc:114] Plugin optimizer for device_type GPU is enabled.\n"
     ]
    },
    {
     "name": "stdout",
     "output_type": "stream",
     "text": [
      "250/250 [==============================] - 23s 90ms/step - loss: 0.7027 - accuracy: 0.5460 - val_loss: 0.6557 - val_accuracy: 0.6139\n",
      "Epoch 2/25\n",
      "250/250 [==============================] - 21s 83ms/step - loss: 0.6603 - accuracy: 0.6194 - val_loss: 0.6433 - val_accuracy: 0.6310\n",
      "Epoch 3/25\n",
      "250/250 [==============================] - 20s 82ms/step - loss: 0.6428 - accuracy: 0.6364 - val_loss: 0.6373 - val_accuracy: 0.6497\n",
      "Epoch 4/25\n",
      "250/250 [==============================] - 22s 87ms/step - loss: 0.6675 - accuracy: 0.6407 - val_loss: 0.6929 - val_accuracy: 0.6421\n",
      "Epoch 5/25\n",
      "250/250 [==============================] - 21s 84ms/step - loss: 0.9554 - accuracy: 0.6025 - val_loss: 0.7398 - val_accuracy: 0.6321\n",
      "Epoch 6/25\n",
      "250/250 [==============================] - 21s 83ms/step - loss: 1.2436 - accuracy: 0.6059 - val_loss: 2.9608 - val_accuracy: 0.5423\n",
      "Epoch 7/25\n",
      "250/250 [==============================] - 21s 83ms/step - loss: 2.0045 - accuracy: 0.5938 - val_loss: 2.0497 - val_accuracy: 0.6139\n",
      "Epoch 8/25\n",
      "250/250 [==============================] - 21s 83ms/step - loss: 5.4972 - accuracy: 0.5638 - val_loss: 3.5408 - val_accuracy: 0.5630\n",
      "Epoch 9/25\n",
      "250/250 [==============================] - 21s 84ms/step - loss: 6.7510 - accuracy: 0.5680 - val_loss: 3.0900 - val_accuracy: 0.6013\n",
      "Epoch 10/25\n",
      "250/250 [==============================] - 21s 83ms/step - loss: 10.9316 - accuracy: 0.5506 - val_loss: 10.2859 - val_accuracy: 0.5328\n",
      "Epoch 11/25\n",
      "250/250 [==============================] - 20s 81ms/step - loss: 13.4578 - accuracy: 0.5462 - val_loss: 6.7520 - val_accuracy: 0.5721\n",
      "Epoch 12/25\n",
      "250/250 [==============================] - 20s 81ms/step - loss: 15.7674 - accuracy: 0.5499 - val_loss: 9.9506 - val_accuracy: 0.5726\n",
      "Epoch 13/25\n",
      "250/250 [==============================] - 21s 82ms/step - loss: 20.4929 - accuracy: 0.5350 - val_loss: 39.1242 - val_accuracy: 0.4788\n",
      "Epoch 14/25\n",
      "250/250 [==============================] - 21s 82ms/step - loss: 26.5321 - accuracy: 0.5504 - val_loss: 27.1950 - val_accuracy: 0.5418\n",
      "Epoch 15/25\n",
      "250/250 [==============================] - 21s 83ms/step - loss: 25.3417 - accuracy: 0.5497 - val_loss: 16.6598 - val_accuracy: 0.5600\n",
      "Epoch 16/25\n",
      "250/250 [==============================] - 22s 89ms/step - loss: 26.0158 - accuracy: 0.5690 - val_loss: 52.0033 - val_accuracy: 0.5197\n",
      "Epoch 17/25\n",
      "250/250 [==============================] - 22s 89ms/step - loss: 35.8122 - accuracy: 0.5469 - val_loss: 32.6375 - val_accuracy: 0.5348\n",
      "Epoch 18/25\n",
      "250/250 [==============================] - 22s 89ms/step - loss: 57.5811 - accuracy: 0.5325 - val_loss: 23.9211 - val_accuracy: 0.5549\n",
      "Epoch 19/25\n",
      "250/250 [==============================] - 22s 88ms/step - loss: 50.0354 - accuracy: 0.5386 - val_loss: 37.5039 - val_accuracy: 0.5817\n",
      "Epoch 20/25\n",
      "250/250 [==============================] - 22s 88ms/step - loss: 60.5560 - accuracy: 0.5428 - val_loss: 68.3765 - val_accuracy: 0.5166\n",
      "Epoch 21/25\n",
      "250/250 [==============================] - 23s 90ms/step - loss: 75.0888 - accuracy: 0.5296 - val_loss: 36.6044 - val_accuracy: 0.5756\n",
      "Epoch 22/25\n",
      "250/250 [==============================] - 22s 89ms/step - loss: 87.4552 - accuracy: 0.5332 - val_loss: 68.0804 - val_accuracy: 0.5091\n",
      "Epoch 23/25\n",
      "250/250 [==============================] - 21s 83ms/step - loss: 77.7400 - accuracy: 0.5371 - val_loss: 76.6118 - val_accuracy: 0.5111\n",
      "Epoch 24/25\n",
      "250/250 [==============================] - 21s 83ms/step - loss: 67.0985 - accuracy: 0.5430 - val_loss: 116.8635 - val_accuracy: 0.5010\n",
      "Epoch 25/25\n",
      "250/250 [==============================] - 21s 83ms/step - loss: 60.2537 - accuracy: 0.5501 - val_loss: 52.8055 - val_accuracy: 0.5156\n"
     ]
    },
    {
     "data": {
      "text/plain": "<keras.src.callbacks.History at 0x16ecab280>"
     },
     "execution_count": 1,
     "metadata": {},
     "output_type": "execute_result"
    }
   ],
   "source": [
    "# Convolutional Neural Network\n",
    "\n",
    "# Installing Theano\n",
    "# pip install --upgrade --no-deps git+git://github.com/Theano/Theano.git\n",
    "\n",
    "# Installing Tensorflow\n",
    "# pip install tensorflow\n",
    "\n",
    "# Installing Keras\n",
    "# pip install --upgrade keras\n",
    "\n",
    "# Part 1 - Building the CNN\n",
    "\n",
    "# Importing the Keras libraries and packages\n",
    "from keras.models import Sequential\n",
    "from keras.layers import Conv2D\n",
    "from keras.layers import MaxPooling2D\n",
    "from keras.layers import Flatten\n",
    "from keras.layers import Dense\n",
    "\n",
    "# Initialising the CNN\n",
    "classifier = Sequential()\n",
    "\n",
    "# Step 1 - Convolution\n",
    "classifier.add(Conv2D(32, (3, 3), input_shape=(64, 64, 3), activation='relu'))\n",
    "\n",
    "# Step 2 - Pooling\n",
    "classifier.add(MaxPooling2D(pool_size=(2, 2)))\n",
    "\n",
    "# Adding a second convolutional layer\n",
    "classifier.add(Conv2D(32, (3, 3), activation='relu'))\n",
    "classifier.add(MaxPooling2D(pool_size=(2, 2)))\n",
    "\n",
    "# Step 3 - Flattening\n",
    "classifier.add(Flatten())\n",
    "\n",
    "# Step 4 - Full connection\n",
    "classifier.add(Dense(units=128, activation='relu'))\n",
    "classifier.add(Dense(units=1, activation='sigmoid'))\n",
    "\n",
    "# Compiling the CNN\n",
    "classifier.compile(optimizer='adam', loss='binary_crossentropy', metrics=['accuracy'])\n",
    "\n",
    "# Part 2 - Fitting the CNN to the images\n",
    "\n",
    "from keras.preprocessing.image import ImageDataGenerator\n",
    "\n",
    "train_datagen = ImageDataGenerator(rescale=1. / 255,\n",
    "                                   shear_range=0.2,\n",
    "                                   zoom_range=0.2,\n",
    "                                   horizontal_flip=True)\n",
    "\n",
    "test_datagen = ImageDataGenerator(rescale=1. / 255)\n",
    "\n",
    "training_set = train_datagen.flow_from_directory('Datasets/CNN/training_set',\n",
    "                                                 target_size=(64, 64),\n",
    "                                                 batch_size=32,\n",
    "                                                 class_mode='binary')\n",
    "\n",
    "test_set = test_datagen.flow_from_directory('Datasets/CNN/test_set',\n",
    "                                            target_size=(64, 64),\n",
    "                                            batch_size=32,\n",
    "                                            class_mode='binary')\n",
    "\n",
    "classifier.fit_generator(training_set,\n",
    "                         steps_per_epoch=8000 // 32,\n",
    "                         epochs=25,\n",
    "                         validation_data=test_set,\n",
    "                         validation_steps=2000 // 32)"
   ],
   "metadata": {
    "collapsed": false,
    "ExecuteTime": {
     "end_time": "2023-11-21T15:29:55.914779Z",
     "start_time": "2023-11-21T15:21:00.449285Z"
    }
   },
   "id": "59d8216ce500e9d5"
  },
  {
   "cell_type": "code",
   "execution_count": 2,
   "outputs": [
    {
     "name": "stderr",
     "output_type": "stream",
     "text": [
      "/Users/thibaultchausson/miniconda3/envs/AI53/lib/python3.8/site-packages/keras/src/engine/training.py:3000: UserWarning: You are saving your model as an HDF5 file via `model.save()`. This file format is considered legacy. We recommend using instead the native Keras format, e.g. `model.save('my_model.keras')`.\n",
      "  saving_api.save_model(\n"
     ]
    }
   ],
   "source": [
    "# Sauvegarder le modèle\n",
    "classifier.save('chien_or_chat.h5')"
   ],
   "metadata": {
    "collapsed": false,
    "ExecuteTime": {
     "end_time": "2023-11-21T15:30:30.239339Z",
     "start_time": "2023-11-21T15:30:30.198137Z"
    }
   },
   "id": "a88601f3c4a72b84"
  },
  {
   "cell_type": "markdown",
   "source": [
    "# Problem 2\n",
    "Apply the CNN to predict the labels of the images in dataset/single_prediction."
   ],
   "metadata": {
    "collapsed": false
   },
   "id": "b739392aea691b3c"
  },
  {
   "cell_type": "code",
   "execution_count": 6,
   "outputs": [
    {
     "name": "stderr",
     "output_type": "stream",
     "text": [
      "2023-11-21 16:31:23.343738: I tensorflow/core/grappler/optimizers/custom_graph_optimizer_registry.cc:114] Plugin optimizer for device_type GPU is enabled.\n"
     ]
    },
    {
     "name": "stdout",
     "output_type": "stream",
     "text": [
      "1/1 [==============================] - 1s 685ms/step\n",
      "chien\n",
      "1/1 [==============================] - 0s 13ms/step\n",
      "chat\n"
     ]
    }
   ],
   "source": [
    "# Use the trained model to predict cat or dog\n",
    "# Image to predict is in dataset/single_prediction/cat_or_dog_1.jpg and dataset/single_prediction/cat_or_dog_2.jpg\n",
    "\n",
    "from keras.preprocessing import image\n",
    "from keras.models import load_model\n",
    "import numpy as np\n",
    "\n",
    "# Charger le modèle\n",
    "# Si vous avez déjà un modèle sauvegardé :\n",
    "# classifier = load_model('chien_or_chat.h5')\n",
    "\n",
    "tableau_chemin = ['Datasets/CNN/single_prediction/cat_or_dog_1.jpg', 'Datasets/CNN/single_prediction/cat_or_dog_2.jpg']\n",
    "\n",
    "for k in range(len(tableau_chemin)):\n",
    "    # Prétraiter l'image\n",
    "    image_test = image.load_img(tableau_chemin[k], target_size=(\n",
    "    64, 64))  # Charger l'image et on a met à la taille 64x64 comme on a fait pour entrainer le modèle\n",
    "    image_test = image.img_to_array(image_test)  # Convertir l'image en tableau numpy\n",
    "    image_test = np.expand_dims(image_test, axis=0)  # Ajouter une dimension pour avoir un batch de 1 image\n",
    "    image_test = image_test / 255.0  # Normaliser l'image\n",
    "\n",
    "    # Prédiction\n",
    "    resultat = classifier.predict(image_test)\n",
    "    if resultat[0][0] >= 0.5:\n",
    "        prediction = 'chien'\n",
    "    else:\n",
    "        prediction = 'chat'\n",
    "\n",
    "    print(prediction)"
   ],
   "metadata": {
    "collapsed": false,
    "ExecuteTime": {
     "end_time": "2023-11-21T15:31:24.069348Z",
     "start_time": "2023-11-21T15:31:23.260044Z"
    }
   },
   "id": "6b284e10ccfbeb31"
  },
  {
   "cell_type": "markdown",
   "source": [
    "# Problem 3\n",
    "Study the python code template_RNN.py where a LSTM recurrent neural network is used to predict the stock value of Google."
   ],
   "metadata": {
    "collapsed": false
   },
   "id": "cedf3ebccdfa2d40"
  },
  {
   "cell_type": "code",
   "execution_count": 10,
   "outputs": [],
   "source": [
    "# Recurrent Neural Network\n",
    "\n",
    "\n",
    "# Part 1 - Data Preprocessing\n",
    "\n",
    "# Importing the libraries\n",
    "import numpy as np\n",
    "\n",
    "from templates.rnn_functions import build_series, load_regressor, load_dataset, build_regressor, get_subset, \\\n",
    "    apply_inverse_transform, plot_stock_prices\n",
    "\n",
    "\n",
    "def rnn_LSTM():\n",
    "    stock_file = './Datasets/RNN/Google_Stock_Price'\n",
    "    n_obs = 60\n",
    "    n_test_examples = 50\n",
    "    regressor_filename = None\n",
    "    features = ['Open', 'High', 'Low']\n",
    "    rnn_structure = (50, 50, 50, 50)\n",
    "    n_epochs = 100\n",
    "\n",
    "    training_set, training_set_scaled, sc, real_stock_price, real_stock_price_scaled = load_dataset(\n",
    "        '{}.PA.csv'.format(stock_file), n_test_examples, features)\n",
    "\n",
    "    # Creating a data structure with 60 timesteps and 1 output\n",
    "    X_train = build_series(training_set_scaled, n_obs)\n",
    "\n",
    "    id_price = 0\n",
    "    y_train = np.array(training_set_scaled[n_obs:, id_price])\n",
    "\n",
    "    # Part 2 - Build or load the RNN\n",
    "\n",
    "    if regressor_filename is None:\n",
    "        # Part 2 - Building the RNN    \n",
    "        regressor = build_regressor(rnn_structure, (X_train.shape[1], X_train.shape[2]), dropout=0.2)\n",
    "\n",
    "        # Fitting the RNN to the Training set\n",
    "        regressor.fit(X_train, y_train, epochs=n_epochs, batch_size=32)\n",
    "    else:\n",
    "        regressor = load_regressor(regressor_filename)\n",
    "\n",
    "    # Part 3 - Making the predictions and visualising the results\n",
    "\n",
    "    # Getting the predicted stock price\n",
    "    inputs = get_subset(training_set_scaled, real_stock_price_scaled, n_obs)\n",
    "\n",
    "    X_test = build_series(inputs, n_obs)\n",
    "\n",
    "    predicted_stock_price = regressor.predict(X_test)\n",
    "    predicted_stock_price = apply_inverse_transform(predicted_stock_price, X_train.shape[2], sc)\n",
    "\n",
    "    # Visualising the results\n",
    "    plot_stock_prices(real_stock_price, predicted_stock_price)\n",
    "    return real_stock_price, predicted_stock_price"
   ],
   "metadata": {
    "collapsed": false,
    "ExecuteTime": {
     "end_time": "2023-11-21T16:02:11.344455Z",
     "start_time": "2023-11-21T16:02:11.331547Z"
    }
   },
   "id": "b3e4a8f90ffb810d"
  },
  {
   "cell_type": "code",
   "execution_count": null,
   "outputs": [],
   "source": [
    "rnn_LSTM()"
   ],
   "metadata": {
    "collapsed": false
   },
   "id": "9db78798a45240f7"
  },
  {
   "cell_type": "markdown",
   "source": [
    "# Problem 4\n",
    "Think about how to use a GRU recurrent network and apply it on the same dataset to compare the results of both kinds of recurrent networks."
   ],
   "metadata": {
    "collapsed": false
   },
   "id": "edb8098e73dd0180"
  },
  {
   "cell_type": "markdown",
   "source": [
    "L’unité récurrente fermée GRU (Gated Recurrent Unit) a été introduite en 2014 par Cho et Al pour résoudre le problème de disparition du gradient rencontré par les réseaux récurrents classiques, mais aussi pour proposer une architecture avec moins de paramètres à entrainer par rapport à une LSTM. À l’instar de LSTM, l’unité GRU est l’élément de base d’une architecture GRU. Une passe avant de l’unité GRU est modélisé par les équations (9-12) :\n",
    "![équation](images/Reseaux-de-neurones-6-equa.png)\n",
    "Equation de modélisation d'une passe avant de l’unité GRU\n",
    "où σ est la fonction sigmoïde, zt est le vecteur d’activation de la porte de mise à jour, rt le vecteur d’activation de la porte de réinitialisation, het le vecteur candidat et ht est le vecteur output de l’unité GRU. W et U sont des poids, b est le vecteur biais (poids et biais sont à entrainer durant le processus d’apprentissage) et le symbole * pour le produit de Hadamard.\n",
    "![schema](images/Reseaux-de-neurones-7-figure-4.png)"
   ],
   "metadata": {
    "collapsed": false
   },
   "id": "a710205cf74450d5"
  },
  {
   "cell_type": "code",
   "execution_count": 8,
   "outputs": [],
   "source": [
    "from keras.layers import GRU\n",
    "from keras.layers import Dropout\n",
    "\n",
    "\n",
    "def build_regressor_gru(layers, input_shape, dropout=0.2, optimizer='adam', loss_function='mean_squared_error'):\n",
    "    regressor = Sequential()\n",
    "\n",
    "    n_layers = len(layers)\n",
    "\n",
    "    # Ajout de la première couche GRU et régularisation par Dropout\n",
    "    regressor.add(GRU(units=layers[0], return_sequences=True, input_shape=input_shape))\n",
    "    regressor.add(Dropout(dropout))\n",
    "\n",
    "    if n_layers > 1:\n",
    "        for i in range(1, n_layers - 1):\n",
    "            regressor.add(GRU(units=layers[i], return_sequences=True))\n",
    "            regressor.add(Dropout(dropout))\n",
    "\n",
    "    regressor.add(GRU(units=layers[-1]))\n",
    "    regressor.add(Dropout(dropout))\n",
    "\n",
    "    regressor.add(Dense(units=1))\n",
    "    regressor.compile(optimizer=optimizer, loss=loss_function)\n",
    "\n",
    "    return regressor"
   ],
   "metadata": {
    "collapsed": false,
    "ExecuteTime": {
     "end_time": "2023-11-21T15:58:42.352967Z",
     "start_time": "2023-11-21T15:58:42.346576Z"
    }
   },
   "id": "c705a780ad502c6b"
  },
  {
   "cell_type": "code",
   "execution_count": 11,
   "outputs": [],
   "source": [
    "# Recurrent Neural Network\n",
    "\n",
    "\n",
    "# Part 1 - Data Preprocessing\n",
    "\n",
    "# Importing the libraries\n",
    "import numpy as np\n",
    "\n",
    "from templates.rnn_functions import build_series, load_regressor, load_dataset, get_subset, apply_inverse_transform, \\\n",
    "    plot_stock_prices\n",
    "\n",
    "\n",
    "def rnn_GRU():\n",
    "    stock_file = './Datasets/RNN/Google_Stock_Price'\n",
    "    n_obs = 60\n",
    "    n_test_examples = 50\n",
    "    regressor_filename = None\n",
    "    features = ['Open', 'High', 'Low']\n",
    "    rnn_structure = (50, 50, 50, 50)\n",
    "    n_epochs = 100\n",
    "\n",
    "    training_set, training_set_scaled, sc, real_stock_price, real_stock_price_scaled = load_dataset(\n",
    "        '{}.PA.csv'.format(stock_file), n_test_examples, features)\n",
    "\n",
    "    # Creating a data structure with 60 timesteps and 1 output\n",
    "    X_train = build_series(training_set_scaled, n_obs)\n",
    "\n",
    "    id_price = 0\n",
    "    y_train = np.array(training_set_scaled[n_obs:, id_price])\n",
    "\n",
    "    # Part 2 - Build or load the RNN\n",
    "\n",
    "    if regressor_filename is None:\n",
    "        # Part 2 - Building the RNN    \n",
    "        regressor = build_regressor_gru(rnn_structure, (X_train.shape[1], X_train.shape[2]), dropout=0.2)\n",
    "\n",
    "        # Fitting the RNN to the Training set\n",
    "        regressor.fit(X_train, y_train, epochs=n_epochs, batch_size=32)\n",
    "    else:\n",
    "        regressor = load_regressor(regressor_filename)\n",
    "\n",
    "    # Part 3 - Making the predictions and visualising the results\n",
    "\n",
    "    # Getting the predicted stock price\n",
    "    inputs = get_subset(training_set_scaled, real_stock_price_scaled, n_obs)\n",
    "\n",
    "    X_test = build_series(inputs, n_obs)\n",
    "\n",
    "    predicted_stock_price = regressor.predict(X_test)\n",
    "    predicted_stock_price = apply_inverse_transform(predicted_stock_price, X_train.shape[2], sc)\n",
    "\n",
    "    # Visualising the results\n",
    "    plot_stock_prices(real_stock_price, predicted_stock_price)\n",
    "    return real_stock_price, predicted_stock_price"
   ],
   "metadata": {
    "collapsed": false,
    "ExecuteTime": {
     "end_time": "2023-11-21T16:02:18.922363Z",
     "start_time": "2023-11-21T16:02:18.918024Z"
    }
   },
   "id": "4f392ef2e5b2cc31"
  },
  {
   "cell_type": "code",
   "execution_count": null,
   "outputs": [],
   "source": [
    "rnn_GRU()"
   ],
   "metadata": {
    "collapsed": false
   },
   "id": "5f05ebbff8ac802b"
  },
  {
   "cell_type": "markdown",
   "source": [
    "## Comparaison des résultats"
   ],
   "metadata": {
    "collapsed": false
   },
   "id": "188de56bf8efe167"
  },
  {
   "cell_type": "code",
   "execution_count": 12,
   "outputs": [],
   "source": [
    "# Calcul de la différence moyenne entre deux listes\n",
    "\n",
    "def diff_moyenne(liste1, liste2):\n",
    "    diff = []\n",
    "    for i in range(len(liste1)):\n",
    "        diff.append(liste1[i] - liste2[i])\n",
    "    return sum(diff) / len(diff)"
   ],
   "metadata": {
    "collapsed": false,
    "ExecuteTime": {
     "end_time": "2023-11-21T16:06:53.199724Z",
     "start_time": "2023-11-21T16:06:53.191234Z"
    }
   },
   "id": "79a1013fac339674"
  },
  {
   "cell_type": "code",
   "execution_count": null,
   "outputs": [],
   "source": [
    "def aire(y1, y2):\n",
    "    # Créer un tableau x correspondant\n",
    "    x = np.linspace(0, len(y1) - 1, len(y1)) # Début, fin, nombre de points\n",
    "\n",
    "    # Calcul de l'aire sous chaque courbe, avec la méthode des trapèzes\n",
    "    aire_y1 = np.trapz(y1, x)\n",
    "    aire_y2 = np.trapz(y2, x)\n",
    "\n",
    "    # Pour l'aire entre les deux courbes\n",
    "    aire_entre_courbes = np.abs(aire_y1 - aire_y2) # Valeur absolue pour avoir une aire positive\n",
    "\n",
    "    print(\"Aire sous la courbe y1:\", aire_y1)\n",
    "    print(\"Aire sous la courbe y2:\", aire_y2)\n",
    "    print(\"Aire entre les courbes:\", aire_entre_courbes)"
   ],
   "metadata": {
    "collapsed": false
   },
   "id": "3b13f4f06f7a4d33"
  },
  {
   "cell_type": "code",
   "execution_count": 13,
   "outputs": [
    {
     "name": "stdout",
     "output_type": "stream",
     "text": [
      "Epoch 1/100\n"
     ]
    },
    {
     "name": "stderr",
     "output_type": "stream",
     "text": [
      "2023-11-21 17:06:56.475459: I tensorflow/core/grappler/optimizers/custom_graph_optimizer_registry.cc:114] Plugin optimizer for device_type GPU is enabled.\n",
      "2023-11-21 17:06:56.834708: I tensorflow/core/grappler/optimizers/custom_graph_optimizer_registry.cc:114] Plugin optimizer for device_type GPU is enabled.\n",
      "2023-11-21 17:06:56.934620: I tensorflow/core/grappler/optimizers/custom_graph_optimizer_registry.cc:114] Plugin optimizer for device_type GPU is enabled.\n",
      "2023-11-21 17:06:57.016867: I tensorflow/core/grappler/optimizers/custom_graph_optimizer_registry.cc:114] Plugin optimizer for device_type GPU is enabled.\n",
      "2023-11-21 17:06:57.110119: I tensorflow/core/grappler/optimizers/custom_graph_optimizer_registry.cc:114] Plugin optimizer for device_type GPU is enabled.\n",
      "2023-11-21 17:06:57.259242: I tensorflow/core/grappler/optimizers/custom_graph_optimizer_registry.cc:114] Plugin optimizer for device_type GPU is enabled.\n",
      "2023-11-21 17:06:57.418297: I tensorflow/core/grappler/optimizers/custom_graph_optimizer_registry.cc:114] Plugin optimizer for device_type GPU is enabled.\n",
      "2023-11-21 17:06:57.575060: I tensorflow/core/grappler/optimizers/custom_graph_optimizer_registry.cc:114] Plugin optimizer for device_type GPU is enabled.\n"
     ]
    },
    {
     "name": "stdout",
     "output_type": "stream",
     "text": [
      " 1/37 [..............................] - ETA: 1:54 - loss: 0.4102"
     ]
    },
    {
     "name": "stderr",
     "output_type": "stream",
     "text": [
      "2023-11-21 17:06:57.762334: I tensorflow/core/grappler/optimizers/custom_graph_optimizer_registry.cc:114] Plugin optimizer for device_type GPU is enabled.\n"
     ]
    },
    {
     "name": "stdout",
     "output_type": "stream",
     "text": [
      "37/37 [==============================] - 5s 49ms/step - loss: 0.0444\n",
      "Epoch 2/100\n",
      "37/37 [==============================] - 1s 37ms/step - loss: 0.0053\n",
      "Epoch 3/100\n",
      "37/37 [==============================] - 1s 37ms/step - loss: 0.0034\n",
      "Epoch 4/100\n",
      "37/37 [==============================] - 1s 39ms/step - loss: 0.0026\n",
      "Epoch 5/100\n",
      "37/37 [==============================] - 1s 38ms/step - loss: 0.0023\n",
      "Epoch 6/100\n",
      "37/37 [==============================] - 1s 37ms/step - loss: 0.0022\n",
      "Epoch 7/100\n",
      "37/37 [==============================] - 1s 37ms/step - loss: 0.0019\n",
      "Epoch 8/100\n",
      "37/37 [==============================] - 1s 39ms/step - loss: 0.0019\n",
      "Epoch 9/100\n",
      "37/37 [==============================] - 1s 37ms/step - loss: 0.0017\n",
      "Epoch 10/100\n",
      "37/37 [==============================] - 1s 37ms/step - loss: 0.0017\n",
      "Epoch 11/100\n",
      "37/37 [==============================] - 1s 37ms/step - loss: 0.0018\n",
      "Epoch 12/100\n",
      "37/37 [==============================] - 1s 37ms/step - loss: 0.0019\n",
      "Epoch 13/100\n",
      "37/37 [==============================] - 1s 37ms/step - loss: 0.0017\n",
      "Epoch 14/100\n",
      "37/37 [==============================] - 1s 38ms/step - loss: 0.0016\n",
      "Epoch 15/100\n",
      "37/37 [==============================] - 1s 38ms/step - loss: 0.0016\n",
      "Epoch 16/100\n",
      "37/37 [==============================] - 1s 38ms/step - loss: 0.0014\n",
      "Epoch 17/100\n",
      "37/37 [==============================] - 1s 39ms/step - loss: 0.0013\n",
      "Epoch 18/100\n",
      "37/37 [==============================] - 1s 37ms/step - loss: 0.0014\n",
      "Epoch 19/100\n",
      "37/37 [==============================] - 1s 39ms/step - loss: 0.0013\n",
      "Epoch 20/100\n",
      "37/37 [==============================] - 1s 37ms/step - loss: 0.0013\n",
      "Epoch 21/100\n",
      "37/37 [==============================] - 1s 37ms/step - loss: 0.0013\n",
      "Epoch 22/100\n",
      "37/37 [==============================] - 1s 37ms/step - loss: 0.0013\n",
      "Epoch 23/100\n",
      "37/37 [==============================] - 1s 37ms/step - loss: 0.0013\n",
      "Epoch 24/100\n",
      "37/37 [==============================] - 1s 37ms/step - loss: 0.0014\n",
      "Epoch 25/100\n",
      "37/37 [==============================] - 1s 37ms/step - loss: 0.0013\n",
      "Epoch 26/100\n",
      "37/37 [==============================] - 1s 37ms/step - loss: 0.0012\n",
      "Epoch 27/100\n",
      "37/37 [==============================] - 1s 37ms/step - loss: 0.0014\n",
      "Epoch 28/100\n",
      "37/37 [==============================] - 1s 37ms/step - loss: 0.0014\n",
      "Epoch 29/100\n",
      "37/37 [==============================] - 1s 37ms/step - loss: 0.0013\n",
      "Epoch 30/100\n",
      "37/37 [==============================] - 1s 37ms/step - loss: 0.0011\n",
      "Epoch 31/100\n",
      "37/37 [==============================] - 1s 37ms/step - loss: 0.0012\n",
      "Epoch 32/100\n",
      "37/37 [==============================] - 1s 37ms/step - loss: 0.0010\n",
      "Epoch 33/100\n",
      "37/37 [==============================] - 1s 38ms/step - loss: 0.0010\n",
      "Epoch 34/100\n",
      "37/37 [==============================] - 1s 38ms/step - loss: 9.7269e-04\n",
      "Epoch 35/100\n",
      "37/37 [==============================] - 1s 37ms/step - loss: 0.0010\n",
      "Epoch 36/100\n",
      "37/37 [==============================] - 1s 36ms/step - loss: 0.0010\n",
      "Epoch 37/100\n",
      "37/37 [==============================] - 1s 37ms/step - loss: 0.0011\n",
      "Epoch 38/100\n",
      "37/37 [==============================] - 1s 38ms/step - loss: 0.0013\n",
      "Epoch 39/100\n",
      "37/37 [==============================] - 1s 37ms/step - loss: 9.7859e-04\n",
      "Epoch 40/100\n",
      "37/37 [==============================] - 1s 37ms/step - loss: 9.4029e-04\n",
      "Epoch 41/100\n",
      "37/37 [==============================] - 1s 37ms/step - loss: 8.7056e-04\n",
      "Epoch 42/100\n",
      "37/37 [==============================] - 1s 38ms/step - loss: 8.7992e-04\n",
      "Epoch 43/100\n",
      "37/37 [==============================] - 1s 38ms/step - loss: 8.6236e-04\n",
      "Epoch 44/100\n",
      "37/37 [==============================] - 1s 39ms/step - loss: 9.0831e-04\n",
      "Epoch 45/100\n",
      "37/37 [==============================] - 1s 39ms/step - loss: 7.9831e-04\n",
      "Epoch 46/100\n",
      "37/37 [==============================] - 1s 37ms/step - loss: 8.0693e-04\n",
      "Epoch 47/100\n",
      "37/37 [==============================] - 1s 38ms/step - loss: 7.8998e-04\n",
      "Epoch 48/100\n",
      "37/37 [==============================] - 1s 40ms/step - loss: 7.6152e-04\n",
      "Epoch 49/100\n",
      "37/37 [==============================] - 1s 37ms/step - loss: 7.9249e-04\n",
      "Epoch 50/100\n",
      "37/37 [==============================] - 1s 37ms/step - loss: 7.1407e-04\n",
      "Epoch 51/100\n",
      "37/37 [==============================] - 1s 37ms/step - loss: 7.3065e-04\n",
      "Epoch 52/100\n",
      "37/37 [==============================] - 1s 38ms/step - loss: 6.5904e-04\n",
      "Epoch 53/100\n",
      "37/37 [==============================] - 1s 37ms/step - loss: 7.0925e-04\n",
      "Epoch 54/100\n",
      "37/37 [==============================] - 1s 37ms/step - loss: 6.9251e-04\n",
      "Epoch 55/100\n",
      "37/37 [==============================] - 1s 37ms/step - loss: 6.8515e-04\n",
      "Epoch 56/100\n",
      "37/37 [==============================] - 1s 38ms/step - loss: 6.8266e-04\n",
      "Epoch 57/100\n",
      "37/37 [==============================] - 1s 39ms/step - loss: 6.2338e-04\n",
      "Epoch 58/100\n",
      "37/37 [==============================] - 1s 36ms/step - loss: 7.6570e-04\n",
      "Epoch 59/100\n",
      "37/37 [==============================] - 1s 38ms/step - loss: 6.4406e-04\n",
      "Epoch 60/100\n",
      "37/37 [==============================] - 1s 39ms/step - loss: 6.3357e-04\n",
      "Epoch 61/100\n",
      "37/37 [==============================] - 1s 39ms/step - loss: 6.1901e-04\n",
      "Epoch 62/100\n",
      "37/37 [==============================] - 1s 38ms/step - loss: 5.5361e-04\n",
      "Epoch 63/100\n",
      "37/37 [==============================] - 1s 37ms/step - loss: 5.5261e-04\n",
      "Epoch 64/100\n",
      "37/37 [==============================] - 1s 38ms/step - loss: 5.0070e-04\n",
      "Epoch 65/100\n",
      "37/37 [==============================] - 1s 36ms/step - loss: 5.7581e-04\n",
      "Epoch 66/100\n",
      "37/37 [==============================] - 1s 37ms/step - loss: 4.9668e-04\n",
      "Epoch 67/100\n",
      "37/37 [==============================] - 1s 37ms/step - loss: 5.4221e-04\n",
      "Epoch 68/100\n",
      "37/37 [==============================] - 1s 37ms/step - loss: 4.7232e-04\n",
      "Epoch 69/100\n",
      "37/37 [==============================] - 1s 37ms/step - loss: 4.5725e-04\n",
      "Epoch 70/100\n",
      "37/37 [==============================] - 1s 37ms/step - loss: 5.6373e-04\n",
      "Epoch 71/100\n",
      "37/37 [==============================] - 1s 38ms/step - loss: 5.3988e-04\n",
      "Epoch 72/100\n",
      "37/37 [==============================] - 1s 36ms/step - loss: 5.0775e-04\n",
      "Epoch 73/100\n",
      "37/37 [==============================] - 1s 36ms/step - loss: 5.4881e-04\n",
      "Epoch 74/100\n",
      "37/37 [==============================] - 1s 39ms/step - loss: 5.4613e-04\n",
      "Epoch 75/100\n",
      "37/37 [==============================] - 1s 39ms/step - loss: 5.5511e-04\n",
      "Epoch 76/100\n",
      "37/37 [==============================] - 1s 40ms/step - loss: 4.3679e-04\n",
      "Epoch 77/100\n",
      "37/37 [==============================] - 1s 38ms/step - loss: 4.8658e-04\n",
      "Epoch 78/100\n",
      "37/37 [==============================] - 1s 38ms/step - loss: 4.4472e-04\n",
      "Epoch 79/100\n",
      "37/37 [==============================] - 1s 37ms/step - loss: 4.3103e-04\n",
      "Epoch 80/100\n",
      "37/37 [==============================] - 1s 38ms/step - loss: 3.8958e-04\n",
      "Epoch 81/100\n",
      "37/37 [==============================] - 1s 39ms/step - loss: 4.0747e-04\n",
      "Epoch 82/100\n",
      "37/37 [==============================] - 1s 39ms/step - loss: 4.6202e-04\n",
      "Epoch 83/100\n",
      "37/37 [==============================] - 1s 38ms/step - loss: 4.1781e-04\n",
      "Epoch 84/100\n",
      "37/37 [==============================] - 1s 39ms/step - loss: 3.8226e-04\n",
      "Epoch 85/100\n",
      "37/37 [==============================] - 1s 37ms/step - loss: 4.3794e-04\n",
      "Epoch 86/100\n",
      "37/37 [==============================] - 1s 37ms/step - loss: 4.0104e-04\n",
      "Epoch 87/100\n",
      "37/37 [==============================] - 1s 39ms/step - loss: 6.1254e-04\n",
      "Epoch 88/100\n",
      "37/37 [==============================] - 1s 39ms/step - loss: 4.0268e-04\n",
      "Epoch 89/100\n",
      "37/37 [==============================] - 1s 39ms/step - loss: 4.0945e-04\n",
      "Epoch 90/100\n",
      "37/37 [==============================] - 1s 38ms/step - loss: 4.1108e-04\n",
      "Epoch 91/100\n",
      "37/37 [==============================] - 1s 36ms/step - loss: 4.0206e-04\n",
      "Epoch 92/100\n",
      "37/37 [==============================] - 1s 37ms/step - loss: 3.8505e-04\n",
      "Epoch 93/100\n",
      "37/37 [==============================] - 1s 37ms/step - loss: 3.8241e-04\n",
      "Epoch 94/100\n",
      "37/37 [==============================] - 1s 39ms/step - loss: 3.5734e-04\n",
      "Epoch 95/100\n",
      "37/37 [==============================] - 1s 39ms/step - loss: 3.4039e-04\n",
      "Epoch 96/100\n",
      "37/37 [==============================] - 1s 38ms/step - loss: 3.8562e-04\n",
      "Epoch 97/100\n",
      "37/37 [==============================] - 1s 39ms/step - loss: 3.6031e-04\n",
      "Epoch 98/100\n",
      "37/37 [==============================] - 1s 37ms/step - loss: 3.3183e-04\n",
      "Epoch 99/100\n",
      "37/37 [==============================] - 1s 37ms/step - loss: 3.4230e-04\n",
      "Epoch 100/100\n",
      "37/37 [==============================] - 1s 37ms/step - loss: 3.5121e-04\n"
     ]
    },
    {
     "name": "stderr",
     "output_type": "stream",
     "text": [
      "2023-11-21 17:09:18.088096: I tensorflow/core/grappler/optimizers/custom_graph_optimizer_registry.cc:114] Plugin optimizer for device_type GPU is enabled.\n",
      "2023-11-21 17:09:18.289174: I tensorflow/core/grappler/optimizers/custom_graph_optimizer_registry.cc:114] Plugin optimizer for device_type GPU is enabled.\n",
      "2023-11-21 17:09:18.379026: I tensorflow/core/grappler/optimizers/custom_graph_optimizer_registry.cc:114] Plugin optimizer for device_type GPU is enabled.\n",
      "2023-11-21 17:09:18.461873: I tensorflow/core/grappler/optimizers/custom_graph_optimizer_registry.cc:114] Plugin optimizer for device_type GPU is enabled.\n",
      "2023-11-21 17:09:18.541686: I tensorflow/core/grappler/optimizers/custom_graph_optimizer_registry.cc:114] Plugin optimizer for device_type GPU is enabled.\n"
     ]
    },
    {
     "name": "stdout",
     "output_type": "stream",
     "text": [
      "2/2 [==============================] - 1s 86ms/step\n"
     ]
    },
    {
     "data": {
      "text/plain": "<Figure size 640x480 with 1 Axes>",
      "image/png": "[encoded data removed]"
     },
     "metadata": {},
     "output_type": "display_data"
    },
    {
     "name": "stdout",
     "output_type": "stream",
     "text": [
      "[[766.92 772.7  764.23]\n",
      " [771.37 775.   760.  ]\n",
      " [762.61 769.7  760.6 ]\n",
      " [772.63 776.96 767.  ]\n",
      " [767.73 768.28 755.25]\n",
      " [764.26 765.   760.52]\n",
      " [760.   779.53 759.8 ]\n",
      " [771.53 778.5  768.24]\n",
      " [770.07 772.99 754.83]\n",
      " [757.44 759.85 737.03]\n",
      " [744.59 754.   743.1 ]\n",
      " [757.71 763.9  752.9 ]\n",
      " [764.73 768.83 757.34]\n",
      " [761.   771.36 755.8 ]\n",
      " [772.48 778.18 767.23]\n",
      " [780.   789.43 779.02]\n",
      " [785.04 791.25 784.35]\n",
      " [793.9  804.38 793.34]\n",
      " [797.4  804.   794.01]\n",
      " [797.34 803.   792.92]\n",
      " [800.4  800.86 790.29]\n",
      " [790.22 797.66 786.27]\n",
      " [796.76 798.65 793.27]\n",
      " [795.84 796.68 787.1 ]\n",
      " [792.36 793.32 788.58]\n",
      " [790.9  792.74 787.28]\n",
      " [790.68 797.86 787.66]\n",
      " [793.7  794.23 783.2 ]\n",
      " [783.33 785.93 778.92]\n",
      " [782.75 782.78 770.41]\n",
      " [778.81 789.63 775.8 ]\n",
      " [788.36 791.34 783.16]\n",
      " [786.08 794.48 785.02]\n",
      " [795.26 807.9  792.2 ]\n",
      " [806.4  809.97 802.83]\n",
      " [807.86 809.13 803.51]\n",
      " [805.   808.15 801.37]\n",
      " [807.14 807.39 799.17]\n",
      " [807.48 811.22 806.69]\n",
      " [807.08 807.14 800.37]\n",
      " [805.81 806.21 800.99]\n",
      " [805.12 809.48 801.8 ]\n",
      " [806.91 806.91 801.69]\n",
      " [807.25 820.87 803.74]\n",
      " [822.3  825.9  817.82]\n",
      " [829.62 835.77 825.06]\n",
      " [837.81 838.   827.01]\n",
      " [834.71 841.95 820.44]\n",
      " [814.66 815.84 799.8 ]\n",
      " [796.86 801.25 790.52]]\n",
      "Epoch 1/100\n"
     ]
    },
    {
     "name": "stderr",
     "output_type": "stream",
     "text": [
      "2023-11-21 17:09:20.853764: I tensorflow/core/grappler/optimizers/custom_graph_optimizer_registry.cc:114] Plugin optimizer for device_type GPU is enabled.\n",
      "2023-11-21 17:09:21.210300: I tensorflow/core/grappler/optimizers/custom_graph_optimizer_registry.cc:114] Plugin optimizer for device_type GPU is enabled.\n",
      "2023-11-21 17:09:21.304280: I tensorflow/core/grappler/optimizers/custom_graph_optimizer_registry.cc:114] Plugin optimizer for device_type GPU is enabled.\n",
      "2023-11-21 17:09:21.389558: I tensorflow/core/grappler/optimizers/custom_graph_optimizer_registry.cc:114] Plugin optimizer for device_type GPU is enabled.\n",
      "2023-11-21 17:09:21.489578: I tensorflow/core/grappler/optimizers/custom_graph_optimizer_registry.cc:114] Plugin optimizer for device_type GPU is enabled.\n",
      "2023-11-21 17:09:21.645678: I tensorflow/core/grappler/optimizers/custom_graph_optimizer_registry.cc:114] Plugin optimizer for device_type GPU is enabled.\n",
      "2023-11-21 17:09:21.805408: I tensorflow/core/grappler/optimizers/custom_graph_optimizer_registry.cc:114] Plugin optimizer for device_type GPU is enabled.\n",
      "2023-11-21 17:09:21.973934: I tensorflow/core/grappler/optimizers/custom_graph_optimizer_registry.cc:114] Plugin optimizer for device_type GPU is enabled.\n"
     ]
    },
    {
     "name": "stdout",
     "output_type": "stream",
     "text": [
      " 1/37 [..............................] - ETA: 1:50 - loss: 0.3520"
     ]
    },
    {
     "name": "stderr",
     "output_type": "stream",
     "text": [
      "2023-11-21 17:09:22.131729: I tensorflow/core/grappler/optimizers/custom_graph_optimizer_registry.cc:114] Plugin optimizer for device_type GPU is enabled.\n"
     ]
    },
    {
     "name": "stdout",
     "output_type": "stream",
     "text": [
      "37/37 [==============================] - 5s 52ms/step - loss: 0.0340\n",
      "Epoch 2/100\n",
      "37/37 [==============================] - 1s 37ms/step - loss: 0.0037\n",
      "Epoch 3/100\n",
      "37/37 [==============================] - 1s 36ms/step - loss: 0.0017\n",
      "Epoch 4/100\n",
      "37/37 [==============================] - 1s 36ms/step - loss: 0.0012\n",
      "Epoch 5/100\n",
      "37/37 [==============================] - 1s 36ms/step - loss: 0.0010\n",
      "Epoch 6/100\n",
      "37/37 [==============================] - 1s 36ms/step - loss: 9.1058e-04\n",
      "Epoch 7/100\n",
      "37/37 [==============================] - 1s 36ms/step - loss: 8.5085e-04\n",
      "Epoch 8/100\n",
      "37/37 [==============================] - 1s 36ms/step - loss: 7.7607e-04\n",
      "Epoch 9/100\n",
      "37/37 [==============================] - 1s 36ms/step - loss: 9.3257e-04\n",
      "Epoch 10/100\n",
      "37/37 [==============================] - 1s 37ms/step - loss: 7.2289e-04\n",
      "Epoch 11/100\n",
      "37/37 [==============================] - 1s 36ms/step - loss: 6.7943e-04\n",
      "Epoch 12/100\n",
      "37/37 [==============================] - 1s 35ms/step - loss: 7.5704e-04\n",
      "Epoch 13/100\n",
      "37/37 [==============================] - 1s 35ms/step - loss: 9.2418e-04\n",
      "Epoch 14/100\n",
      "37/37 [==============================] - 1s 38ms/step - loss: 6.9880e-04\n",
      "Epoch 15/100\n",
      "37/37 [==============================] - 1s 35ms/step - loss: 5.9735e-04\n",
      "Epoch 16/100\n",
      "37/37 [==============================] - 1s 36ms/step - loss: 6.7690e-04\n",
      "Epoch 17/100\n",
      "37/37 [==============================] - 1s 36ms/step - loss: 6.1631e-04\n",
      "Epoch 18/100\n",
      "37/37 [==============================] - 1s 35ms/step - loss: 6.3387e-04\n",
      "Epoch 19/100\n",
      "37/37 [==============================] - 1s 35ms/step - loss: 6.5538e-04\n",
      "Epoch 20/100\n",
      "37/37 [==============================] - 1s 36ms/step - loss: 5.6454e-04\n",
      "Epoch 21/100\n",
      "37/37 [==============================] - 1s 36ms/step - loss: 5.0435e-04\n",
      "Epoch 22/100\n",
      "37/37 [==============================] - 1s 36ms/step - loss: 5.2722e-04\n",
      "Epoch 23/100\n",
      "37/37 [==============================] - 1s 34ms/step - loss: 5.0434e-04\n",
      "Epoch 24/100\n",
      "37/37 [==============================] - 1s 39ms/step - loss: 5.3306e-04\n",
      "Epoch 25/100\n",
      "37/37 [==============================] - 1s 35ms/step - loss: 4.9103e-04\n",
      "Epoch 26/100\n",
      "37/37 [==============================] - 1s 35ms/step - loss: 4.3410e-04\n",
      "Epoch 27/100\n",
      "37/37 [==============================] - 1s 37ms/step - loss: 4.4906e-04\n",
      "Epoch 28/100\n",
      "37/37 [==============================] - 1s 36ms/step - loss: 6.1713e-04\n",
      "Epoch 29/100\n",
      "37/37 [==============================] - 1s 39ms/step - loss: 4.2870e-04\n",
      "Epoch 30/100\n",
      "37/37 [==============================] - 1s 36ms/step - loss: 4.8425e-04\n",
      "Epoch 31/100\n",
      "37/37 [==============================] - 1s 35ms/step - loss: 5.5118e-04\n",
      "Epoch 32/100\n",
      "37/37 [==============================] - 1s 35ms/step - loss: 5.2295e-04\n",
      "Epoch 33/100\n",
      "37/37 [==============================] - 1s 37ms/step - loss: 4.1572e-04\n",
      "Epoch 34/100\n",
      "37/37 [==============================] - 1s 38ms/step - loss: 3.8328e-04\n",
      "Epoch 35/100\n",
      "37/37 [==============================] - 1s 35ms/step - loss: 3.5519e-04\n",
      "Epoch 36/100\n",
      "37/37 [==============================] - 1s 36ms/step - loss: 3.5646e-04\n",
      "Epoch 37/100\n",
      "37/37 [==============================] - 1s 36ms/step - loss: 4.6983e-04\n",
      "Epoch 38/100\n",
      "37/37 [==============================] - 1s 34ms/step - loss: 4.7156e-04\n",
      "Epoch 39/100\n",
      "37/37 [==============================] - 1s 35ms/step - loss: 3.8055e-04\n",
      "Epoch 40/100\n",
      "37/37 [==============================] - 1s 34ms/step - loss: 5.0582e-04\n",
      "Epoch 41/100\n",
      "37/37 [==============================] - 1s 34ms/step - loss: 4.3012e-04\n",
      "Epoch 42/100\n",
      "37/37 [==============================] - 1s 35ms/step - loss: 3.7483e-04\n",
      "Epoch 43/100\n",
      "37/37 [==============================] - 1s 34ms/step - loss: 3.2467e-04\n",
      "Epoch 44/100\n",
      "37/37 [==============================] - 1s 34ms/step - loss: 3.1128e-04\n",
      "Epoch 45/100\n",
      "37/37 [==============================] - 1s 34ms/step - loss: 3.5267e-04\n",
      "Epoch 46/100\n",
      "37/37 [==============================] - 1s 35ms/step - loss: 2.9694e-04\n",
      "Epoch 47/100\n",
      "37/37 [==============================] - 1s 34ms/step - loss: 3.2835e-04\n",
      "Epoch 48/100\n",
      "37/37 [==============================] - 1s 34ms/step - loss: 3.4202e-04\n",
      "Epoch 49/100\n",
      "37/37 [==============================] - 1s 34ms/step - loss: 3.2337e-04\n",
      "Epoch 50/100\n",
      "37/37 [==============================] - 1s 33ms/step - loss: 3.5829e-04\n",
      "Epoch 51/100\n",
      "37/37 [==============================] - 1s 34ms/step - loss: 3.3171e-04\n",
      "Epoch 52/100\n",
      "37/37 [==============================] - 1s 33ms/step - loss: 3.0646e-04\n",
      "Epoch 53/100\n",
      "37/37 [==============================] - 1s 34ms/step - loss: 3.0769e-04\n",
      "Epoch 54/100\n",
      "37/37 [==============================] - 1s 35ms/step - loss: 3.2283e-04\n",
      "Epoch 55/100\n",
      "37/37 [==============================] - 1s 34ms/step - loss: 2.6684e-04\n",
      "Epoch 56/100\n",
      "37/37 [==============================] - 1s 34ms/step - loss: 2.6326e-04\n",
      "Epoch 57/100\n",
      "37/37 [==============================] - 1s 34ms/step - loss: 3.0590e-04\n",
      "Epoch 58/100\n",
      "37/37 [==============================] - 1s 33ms/step - loss: 3.9414e-04\n",
      "Epoch 59/100\n",
      "37/37 [==============================] - 1s 33ms/step - loss: 2.5819e-04\n",
      "Epoch 60/100\n",
      "37/37 [==============================] - 1s 33ms/step - loss: 2.7236e-04\n",
      "Epoch 61/100\n",
      "37/37 [==============================] - 1s 33ms/step - loss: 2.6199e-04\n",
      "Epoch 62/100\n",
      "37/37 [==============================] - 1s 33ms/step - loss: 2.7017e-04\n",
      "Epoch 63/100\n",
      "37/37 [==============================] - 1s 34ms/step - loss: 3.0610e-04\n",
      "Epoch 64/100\n",
      "37/37 [==============================] - 1s 33ms/step - loss: 2.6367e-04\n",
      "Epoch 65/100\n",
      "37/37 [==============================] - 1s 35ms/step - loss: 2.7052e-04\n",
      "Epoch 66/100\n",
      "37/37 [==============================] - 1s 34ms/step - loss: 2.8374e-04\n",
      "Epoch 67/100\n",
      "37/37 [==============================] - 1s 34ms/step - loss: 3.4275e-04\n",
      "Epoch 68/100\n",
      "37/37 [==============================] - 1s 33ms/step - loss: 2.4786e-04\n",
      "Epoch 69/100\n",
      "37/37 [==============================] - 1s 34ms/step - loss: 2.6554e-04\n",
      "Epoch 70/100\n",
      "37/37 [==============================] - 1s 34ms/step - loss: 3.2991e-04\n",
      "Epoch 71/100\n",
      "37/37 [==============================] - 1s 34ms/step - loss: 2.5252e-04\n",
      "Epoch 72/100\n",
      "37/37 [==============================] - 1s 34ms/step - loss: 2.7576e-04\n",
      "Epoch 73/100\n",
      "37/37 [==============================] - 1s 34ms/step - loss: 2.4474e-04\n",
      "Epoch 74/100\n",
      "37/37 [==============================] - 1s 34ms/step - loss: 2.3169e-04\n",
      "Epoch 75/100\n",
      "37/37 [==============================] - 1s 36ms/step - loss: 2.3758e-04\n",
      "Epoch 76/100\n",
      "37/37 [==============================] - 1s 36ms/step - loss: 2.2767e-04\n",
      "Epoch 77/100\n",
      "37/37 [==============================] - 1s 34ms/step - loss: 2.9988e-04\n",
      "Epoch 78/100\n",
      "37/37 [==============================] - 1s 36ms/step - loss: 2.5146e-04\n",
      "Epoch 79/100\n",
      "37/37 [==============================] - 1s 35ms/step - loss: 2.3041e-04\n",
      "Epoch 80/100\n",
      "37/37 [==============================] - 1s 34ms/step - loss: 2.2759e-04\n",
      "Epoch 81/100\n",
      "37/37 [==============================] - 1s 35ms/step - loss: 2.3356e-04\n",
      "Epoch 82/100\n",
      "37/37 [==============================] - 1s 36ms/step - loss: 2.4884e-04\n",
      "Epoch 83/100\n",
      "37/37 [==============================] - 1s 36ms/step - loss: 2.3420e-04\n",
      "Epoch 84/100\n",
      "37/37 [==============================] - 1s 36ms/step - loss: 2.8405e-04\n",
      "Epoch 85/100\n",
      "37/37 [==============================] - 1s 35ms/step - loss: 2.4081e-04\n",
      "Epoch 86/100\n",
      "37/37 [==============================] - 1s 36ms/step - loss: 2.2560e-04\n",
      "Epoch 87/100\n",
      "37/37 [==============================] - 1s 35ms/step - loss: 2.9482e-04\n",
      "Epoch 88/100\n",
      "37/37 [==============================] - 1s 35ms/step - loss: 2.9008e-04\n",
      "Epoch 89/100\n",
      "37/37 [==============================] - 1s 35ms/step - loss: 2.1266e-04\n",
      "Epoch 90/100\n",
      "37/37 [==============================] - 1s 35ms/step - loss: 2.3062e-04\n",
      "Epoch 91/100\n",
      "37/37 [==============================] - 1s 34ms/step - loss: 2.8703e-04\n",
      "Epoch 92/100\n",
      "37/37 [==============================] - 1s 34ms/step - loss: 2.4415e-04\n",
      "Epoch 93/100\n",
      "37/37 [==============================] - 1s 34ms/step - loss: 3.1437e-04\n",
      "Epoch 94/100\n",
      "37/37 [==============================] - 1s 34ms/step - loss: 2.9063e-04\n",
      "Epoch 95/100\n",
      "37/37 [==============================] - 1s 33ms/step - loss: 2.4008e-04\n",
      "Epoch 96/100\n",
      "37/37 [==============================] - 1s 33ms/step - loss: 2.4594e-04\n",
      "Epoch 97/100\n",
      "37/37 [==============================] - 1s 33ms/step - loss: 3.5555e-04\n",
      "Epoch 98/100\n",
      "37/37 [==============================] - 1s 35ms/step - loss: 2.6870e-04\n",
      "Epoch 99/100\n",
      "37/37 [==============================] - 1s 33ms/step - loss: 2.2504e-04\n",
      "Epoch 100/100\n",
      "37/37 [==============================] - 1s 35ms/step - loss: 2.4462e-04\n"
     ]
    },
    {
     "name": "stderr",
     "output_type": "stream",
     "text": [
      "2023-11-21 17:11:32.654528: I tensorflow/core/grappler/optimizers/custom_graph_optimizer_registry.cc:114] Plugin optimizer for device_type GPU is enabled.\n",
      "2023-11-21 17:11:32.824855: I tensorflow/core/grappler/optimizers/custom_graph_optimizer_registry.cc:114] Plugin optimizer for device_type GPU is enabled.\n",
      "2023-11-21 17:11:32.907469: I tensorflow/core/grappler/optimizers/custom_graph_optimizer_registry.cc:114] Plugin optimizer for device_type GPU is enabled.\n",
      "2023-11-21 17:11:32.980708: I tensorflow/core/grappler/optimizers/custom_graph_optimizer_registry.cc:114] Plugin optimizer for device_type GPU is enabled.\n",
      "2023-11-21 17:11:33.049126: I tensorflow/core/grappler/optimizers/custom_graph_optimizer_registry.cc:114] Plugin optimizer for device_type GPU is enabled.\n"
     ]
    },
    {
     "name": "stdout",
     "output_type": "stream",
     "text": [
      "WARNING:tensorflow:5 out of the last 9 calls to <function Model.make_predict_function.<locals>.predict_function at 0x2d23afe50> triggered tf.function retracing. Tracing is expensive and the excessive number of tracings could be due to (1) creating @tf.function repeatedly in a loop, (2) passing tensors with different shapes, (3) passing Python objects instead of tensors. For (1), please define your @tf.function outside of the loop. For (2), @tf.function has reduce_retracing=True option that can avoid unnecessary retracing. For (3), please refer to https://www.tensorflow.org/guide/function#controlling_retracing and https://www.tensorflow.org/api_docs/python/tf/function for  more details.\n",
      "2/2 [==============================] - 1s 84ms/step\n"
     ]
    },
    {
     "data": {
      "text/plain": "<Figure size 640x480 with 1 Axes>",
      "image/png": "[encoded data removed]"
     },
     "metadata": {},
     "output_type": "display_data"
    },
    {
     "name": "stdout",
     "output_type": "stream",
     "text": [
      "Temps d'exécution LSTM :  144.64029717445374\n",
      "Différence moyenne entre les deux listes LSTM :  [ -4.42185624   0.37554376 -10.15645624]\n",
      "Temps d'exécution GRU :  134.47712588310242\n",
      "Différence moyenne entre les deux listes GRU :  [20.24365705 25.04105705 14.50905705]\n"
     ]
    }
   ],
   "source": [
    "import time\n",
    "\n",
    "start_time_LSTM = time.time() \n",
    "real_stock_price_LSTM, predicted_stock_price_LSTM = rnn_LSTM()  \n",
    "end_time_LSTM = time.time() \n",
    "\n",
    "print(real_stock_price_LSTM)\n",
    "\n",
    "start_time_GRU = time.time()\n",
    "real_stock_price_GRU, predicted_stock_price_GRU = rnn_GRU()\n",
    "end_time_GRU = time.time()\n",
    "\n",
    "print(\"Temps d'exécution LSTM : \", end_time_LSTM - start_time_LSTM)\n",
    "print(\"Différence moyenne entre les deux listes LSTM : \",\n",
    "      diff_moyenne(real_stock_price_LSTM, predicted_stock_price_LSTM))\n",
    "print(\"Aire entre les deux courbes LSTM : \", aire(real_stock_price_LSTM[:, 0], predicted_stock_price_LSTM))\n",
    "print(\"Temps d'exécution GRU : \", end_time_GRU - start_time_GRU)\n",
    "print(\"Différence moyenne entre les deux listes GRU : \", diff_moyenne(real_stock_price_GRU, predicted_stock_price_GRU))\n",
    "print(\"Aire entre les deux courbes GRU : \", aire(real_stock_price_GRU[:, 0], predicted_stock_price_GRU))"
   ],
   "metadata": {
    "collapsed": false,
    "ExecuteTime": {
     "end_time": "2023-11-21T16:11:33.295455Z",
     "start_time": "2023-11-21T16:06:54.172221Z"
    }
   },
   "id": "401b01b242b6f4eb"
  }
 ],
 "metadata": {
  "kernelspec": {
   "display_name": "Python 3",
   "language": "python",
   "name": "python3"
  },
  "language_info": {
   "codemirror_mode": {
    "name": "ipython",
    "version": 2
   },
   "file_extension": ".py",
   "mimetype": "text/x-python",
   "name": "python",
   "nbconvert_exporter": "python",
   "pygments_lexer": "ipython2",
   "version": "2.7.6"
  }
 },
 "nbformat": 4,
 "nbformat_minor": 5
}
