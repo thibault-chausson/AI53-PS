{
 "cells": [
  {
   "cell_type": "markdown",
   "id": "0ea8376c",
   "metadata": {},
   "source": [
    "# Clustering woven hand "
   ]
  },
  {
   "cell_type": "markdown",
   "id": "34fb4dee",
   "metadata": {},
   "source": [
    "## Exercice 1 : k-means\n",
    "\n",
    "Use the _k_-means algorithm and Euclidean distance to cluster the following 8 examples into 3 clusters: \n",
    "$A_1=(2,10), A_2=(2,5), A_3=(8,4), A_4=(5,8), A_5=(7,5), A_6=(6,4), A_7=(1,2), A_8=(4,9)$.\n",
    "\n",
    "The distance matrix based on the squared Euclidean distance is given below: \n",
    "\n",
    "\n",
    "|    | A1 | A2 | A3 | A4 | A5 | A6 | A7 | A8 |\n",
    "|----|----|----|----|----|----|----|----|----|\n",
    "| A1 | 0  | 25 | 36 | 13 | 50 | 52 | 65 | 5  |\n",
    "| A2 |    |  0 | 37 | 18 | 25 | 17 | 10 | 20 |\n",
    "| A3 |    |    |  0 | 25 | 2  | 2  | 53 | 41 |\n",
    "| A4 |    |    |    | 0  | 13 | 17 | 52 | 2  |\n",
    "| A5 |    |    |    |    |  0 | 2  | 45 | 25 |\n",
    "| A6 |    |    |    |    |    |  0 | 29 | 29 |\n",
    "| A7 |    |    |    |    |    |    | 0  | 58 |\n",
    "| A8 |    |    |    |    |    |    |    | 0  |\n",
    "\n",
    " \n",
    "Suppose that the initial seeds (centers of each cluster) are $A_1$, $A_4$ and $A_7$.\n",
    "Run the k-means algorithm for  1 epoch only. At the end of this epoch show: \n",
    "\n",
    "1. The new clusters (i.e. the examples belonging to each cluster) \n",
    "2. The centers of the new clusters \n",
    "3. plot the 8 points and show the clusters after the first epoch and the new centroids \n",
    "4. How many more iterations are needed to converge? Plot the result for each epoch."
   ]
  },
  {
   "cell_type": "code",
   "execution_count": null,
   "id": "fc249089",
   "metadata": {},
   "outputs": [],
   "source": [
    "import matplotlib.pyplot as plt\n",
    "import numpy as np\n",
    "%matplotlib inline\n",
    "\n",
    "import plot_scatter as ps"
   ]
  },
  {
   "cell_type": "code",
   "execution_count": null,
   "id": "2f4d37d9",
   "metadata": {},
   "outputs": [],
   "source": [
    "X = np.array([[2,10],[2,5],[8,4],[5,8],[7,5],[6,4],[1,2],[4,9]])\n",
    "X"
   ]
  },
  {
   "cell_type": "code",
   "execution_count": null,
   "id": "06662eb9",
   "metadata": {},
   "outputs": [],
   "source": [
    "ps.discrete_scatter(X[:,0],X[:,1])\n",
    "plt.grid()\n",
    "plt.legend([])\n",
    "plt.show()"
   ]
  },
  {
   "cell_type": "markdown",
   "id": "50ccb373",
   "metadata": {},
   "source": [
    "## Exercice 2 : Nearest Neighbor clustering\n",
    "\n",
    "Use the Nearest Neighbor clustering algorithm and Euclidean distance to cluster the examples from the \n",
    "previous exercise: $A_1=(2,10), A_2=(2,5), A_3=(8,4), A_4=(5,8), A_5=(7,5), A_6=(6,4), A_7=(1,2), A_8=(4,9)$.\n",
    "Suppose that the threshold t is 4."
   ]
  },
  {
   "cell_type": "markdown",
   "id": "05ceb2ee",
   "metadata": {},
   "source": [
    "## Exercice 3 : DBScan\n",
    "\n",
    "If $\\epsilon$ is 2 and minpoint is 2, what are the clusters that DBScan would discover with the following 8 \n",
    "examples: $A_1=(2,10), A_2=(2,5), A_3=(8,4), A_4=(5,8), A_5=(7,5), A_6=(6,4), A_7=(1,2), A_8=(4,9)$. \n",
    "\n",
    "1. What is the Epsilon neighborhood of each point?\n",
    "2. Draw the 10 by 10 space and illustrate the  discovered clusters.\n",
    "3. What if $\\epsilon$ is increased to $\\sqrt{10}$ ?"
   ]
  },
  {
   "cell_type": "markdown",
   "id": "cb1f2123",
   "metadata": {},
   "source": [
    "# Exercice 4 : Hierarchical Clustering\n",
    "\n",
    "Use single and complete link agglomerative clustering to group the data described by the following \n",
    "distance matrix. Compute the dendrograms. \n",
    " \n",
    "|  | A | B | C | D |\n",
    "|--|---|---|---|---|\n",
    "|A | 0 | 1 | 4 | 5 | \n",
    "|B |   | 0 | 2 | 6 | \n",
    "|C |   |   | 0 | 3 |\n",
    "|D |   |   |   | 0 |\n",
    "\n",
    "**Note**\n",
    "- single link: distance between two clusters is the shortest distance between a pair of elements from the two clusters. \n",
    "- complete link: distance between two clusters is the longest distance between a pair of elements from the two clusters."
   ]
  },
  {
   "cell_type": "markdown",
   "id": "427b7964",
   "metadata": {},
   "source": [
    "# Clustering in practice"
   ]
  },
  {
   "cell_type": "code",
   "execution_count": null,
   "id": "35381ace",
   "metadata": {},
   "outputs": [],
   "source": [
    "import pandas as pd"
   ]
  },
  {
   "cell_type": "markdown",
   "id": "4a4ce1c1",
   "metadata": {},
   "source": [
    "## Clustering Faithfull data set\n",
    "\n",
    "Waiting time between eruptions and the duration of the eruption\n",
    "for the Old Faithful geyser in Yellowstone National Park, Wyoming, USA.\n",
    "\n",
    "__Format__\n",
    "\n",
    "A data frame with 272 observations on 2 variables.\n",
    "\n",
    "[:,1]  eruptions  numeric  Eruption time in mins.\\\n",
    "[:,2]  waiting    numeric  Waiting time to next eruption (in mins)."
   ]
  },
  {
   "cell_type": "code",
   "execution_count": null,
   "id": "e6bf26ec",
   "metadata": {},
   "outputs": [],
   "source": [
    "from sklearn.preprocessing import StandardScaler\n",
    "from sklearn.mixture import GaussianMixture\n",
    "from sklearn.cluster import KMeans"
   ]
  },
  {
   "cell_type": "code",
   "execution_count": null,
   "id": "4ba0cb29",
   "metadata": {},
   "outputs": [],
   "source": [
    "faithful = pd.read_csv(\"./input/faithful.csv\")\n",
    "faithful.head()"
   ]
  },
  {
   "cell_type": "markdown",
   "id": "bf72485d",
   "metadata": {},
   "source": [
    "**Objective:**\n",
    "\n",
    "- Perform and compare the results of the *k*-means algorithm and of the Gaussian clustering method\n",
    "with $K=2$ and $K=3$ clusters.\n",
    "\n",
    "- What's happened with *k*-means when data are not scaled ?"
   ]
  },
  {
   "cell_type": "code",
   "execution_count": null,
   "id": "c1b781f4",
   "metadata": {},
   "outputs": [],
   "source": []
  },
  {
   "cell_type": "code",
   "execution_count": null,
   "id": "1888c54f",
   "metadata": {},
   "outputs": [],
   "source": []
  },
  {
   "cell_type": "markdown",
   "id": "db26fb66",
   "metadata": {},
   "source": [
    "## Clustering Iris data set\n",
    "\n",
    "**Description**\n",
    "\n",
    "This famous (Fisher's or Anderson's) iris data set gives the measurements in centimeters of the variables sepal length and width and petal length and width, respectively, for 50 flowers from each of 3 species of iris. The species are *Iris setosa*, *versicolor*, and *virginica*.\n",
    "\n",
    "**Format**\n",
    "\n",
    "iris is a data frame with 150 cases (rows) and 5 variables (columns) named Sepal.Length, Sepal.Width, Petal.Length, Petal.Width, and Species.\n",
    "\n",
    "**Source**\n",
    "\n",
    "Fisher, R. A. (1936) The use of multiple measurements in taxonomic problems. *Annals of Eugenics*, 7, Part II, 179–188.\n",
    "\n",
    "The data were collected by Anderson, Edgar (1935). The irises of the Gaspe Peninsula, *Bulletin of the American Iris Society*, 59, 2–5.\n"
   ]
  },
  {
   "cell_type": "code",
   "execution_count": null,
   "id": "20de5186",
   "metadata": {},
   "outputs": [],
   "source": [
    "# load iris dataset\n",
    "iris = pd.read_csv('./input/Iris.csv')\n",
    "iris.drop(columns=['Id'], inplace = True)\n",
    "iris.head()"
   ]
  },
  {
   "cell_type": "code",
   "execution_count": null,
   "id": "cc646724",
   "metadata": {},
   "outputs": [],
   "source": [
    "iris_feature_names = ['SepalLengthCm', 'SepalWidthCm', 'PetalLengthCm', 'PetalWidthCm']\n",
    "iris_target_names, y_iris = np.unique(iris['Species'].to_numpy(), return_inverse=True)\n",
    "\n",
    "X = iris[iris_feature_names].to_numpy()"
   ]
  },
  {
   "cell_type": "markdown",
   "id": "997bdea6",
   "metadata": {},
   "source": [
    "**Objective:**\n",
    "\n",
    "- Compare different clustering methods with $K=3$ on the iris data set and compare the obtained clusters\n",
    "  with the true classes (use ``crosstab`` function)"
   ]
  },
  {
   "cell_type": "code",
   "execution_count": null,
   "id": "a1b34878",
   "metadata": {},
   "outputs": [],
   "source": [
    "def crosstab(y_true, y_cluster):\n",
    "    \"\"\"Compute a cross matrix.\n",
    "\n",
    "    Parameters\n",
    "    ----------\n",
    "\n",
    "    y_true : nd-array\n",
    "             input data, the labels of the true classes\n",
    "\n",
    "    y_cluster : nd-array\n",
    "                input data, the labels of the clusters\n",
    "    \"\"\"\n",
    "    if np.shape(y_true) != np.shape(y_cluster):\n",
    "        print(\"Different shape for y_true and y_cluster\")\n",
    "        return None\n",
    "    labels = pd.DataFrame({'labels': y_true, 'clusters' : y_cluster})\n",
    "    return pd.crosstab(index=labels['labels'], columns=labels['clusters'], margins=True)"
   ]
  },
  {
   "cell_type": "code",
   "execution_count": null,
   "id": "1eff728b",
   "metadata": {},
   "outputs": [],
   "source": []
  },
  {
   "cell_type": "code",
   "execution_count": null,
   "id": "6a5f83a9",
   "metadata": {},
   "outputs": [],
   "source": []
  },
  {
   "cell_type": "markdown",
   "id": "1d5d1c27",
   "metadata": {},
   "source": [
    "## Clustering Breast Cancer data set and Digits data set\n",
    "\n",
    "#### Breast Cancer data set\n",
    "\n",
    "**Description:**\n",
    "\n",
    "Breast cancer is the most common cancer amongst women in the world. It accounts for 25% of all cancer cases, and affected over 2.1 Million people in 2015 alone. It starts when cells in the breast begin to grow out of control. These cells usually form tumors that can be seen via X-ray or felt as lumps in the breast area.\n",
    "\n",
    "**Acknowledgements:**\n",
    "\n",
    "This dataset has been referred from Kaggle.\n"
   ]
  },
  {
   "cell_type": "code",
   "execution_count": null,
   "id": "91024a34",
   "metadata": {},
   "outputs": [],
   "source": [
    "from sklearn.datasets import load_breast_cancer\n",
    "cancer = load_breast_cancer()\n",
    "malignant = cancer.data[cancer.target == 0]\n",
    "benign = cancer.data[cancer.target == 1]"
   ]
  },
  {
   "cell_type": "markdown",
   "id": "b61d00db",
   "metadata": {},
   "source": [
    "### Digits data set\n",
    "\n",
    "This dataset is made up of 1797 8x8 images.\n",
    "Each image, like the one shown below, is of a hand-written digit.\n",
    "In order to utilize an 8x8 figure like this, we’d have to first transform\n",
    "it into a feature vector with length 64.\n",
    "\n",
    "Record use a WACOM PL-100V pressure sensitive tablet with an integrated LCD display and a cordless stylus.\n",
    "The input and display areas are located in the same place.\n",
    "Attached to the serial port of an Intel 486 based PC, it allows to collect handwriting samples.\n",
    "The tablet sends $x$ and $y$ tablet coordinates and pressure level values of the pen at fixed time intervals (sampling rate) of 100 miliseconds.\n",
    "\n",
    "These writers are asked to write 250 digits in random order inside boxes of 500 by 500 tablet pixel resolution. Subject are monitored only during the first entry screens. Each screen contains five boxes with the digits to be written displayed above. Subjects are told to write only inside these boxes. If they make a mistake or are unhappy with their writing, they are instructed to clear the content of a box by using an on-screen button. The first ten digits are ignored because most writers are not familiar with this type of input devices, but subjects are not aware of this. "
   ]
  },
  {
   "cell_type": "code",
   "execution_count": null,
   "id": "7e55246d",
   "metadata": {},
   "outputs": [],
   "source": [
    "from sklearn.datasets import load_digits\n",
    "digits = load_digits()\n",
    "\n",
    "X_digits, y_digits = digits.data, digits.target\n",
    "\n",
    "plt.figure(figsize=(16, 6))\n",
    "#_, axes = plt.subplots(2, 5)\n",
    "for i in range(10):\n",
    "    ax = plt.subplot(2, 5, i + 1)\n",
    "    ax.imshow(X_digits[i,:].reshape([8,8]), cmap='gray')\n",
    "    ax.set_title('Digit: %i' % y_digits[i])"
   ]
  },
  {
   "cell_type": "markdown",
   "id": "5e5e8c81",
   "metadata": {},
   "source": [
    "**Objective:**\n",
    "\n",
    "- Compare different clustering methods on the ``Breast Cancer`` and the ``Digits`` data set and compare \n",
    "  the obtained clusters with the true classes (use ``crosstab`` function)\n",
    "\n",
    "- Perform dimension reduction using PCA and t-SNE and perform clustering on the dimension reduced data set. \n",
    "  Compare the results. Does it improve the recovery of the true classes ?"
   ]
  },
  {
   "cell_type": "code",
   "execution_count": null,
   "id": "c42aa76b",
   "metadata": {},
   "outputs": [],
   "source": []
  },
  {
   "cell_type": "code",
   "execution_count": null,
   "id": "1852ea4f",
   "metadata": {},
   "outputs": [],
   "source": []
  }
 ],
 "metadata": {
  "kernelspec": {
   "display_name": "Python 3 (ipykernel)",
   "language": "python",
   "name": "python3"
  },
  "language_info": {
   "codemirror_mode": {
    "name": "ipython",
    "version": 3
   },
   "file_extension": ".py",
   "mimetype": "text/x-python",
   "name": "python",
   "nbconvert_exporter": "python",
   "pygments_lexer": "ipython3",
   "version": "3.10.6"
  }
 },
 "nbformat": 4,
 "nbformat_minor": 5
}
