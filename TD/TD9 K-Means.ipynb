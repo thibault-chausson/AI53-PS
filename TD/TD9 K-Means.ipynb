{
 "cells": [
  {
   "cell_type": "markdown",
   "id": "a9fac926d7319ef8",
   "metadata": {},
   "source": [
    "# TPD 9 K-Means\n",
    "\n",
    "## Exercise 1\n",
    "\n",
    "1. Is this data linearly separable?\n",
    "2. If it is possible, give a line that separates this data into two classes.\n",
    "3. Apply the K-means algorithm on the input data (x1 and x2) assuming the initial centers are\n",
    "at (0,-4) and (0,8).\n",
    "4. Let us define the distortion function J as: $J(c,\\mu) = \\sum^m_{i=1} \\lVert x^{(i)}-\\mu_{c^{(i)}}\\rVert^2$ , where m is the i=1 number of training examples, $x^{(i)}$ is the i-th training example, $c=\\{ c^{(1)}, ..., c^{(m)}\\}$ is the set of assigned classes for each training example, $\\mu = \\{ \\mu_1, ..., \\mu_k \\}$ is the set of cluster centroïds and k is the given fixed number of classes prior to executing K-means. Compute J when the initial centers are at (0,-4) and (0,8) for the given inputs, before applying the K- Means and for each iteration of the K-Means. What does this function J measure ?\n",
    "5. Suppose you are given a 24-bit RGB image of size 256 by 256. How can you use K-means to compress this image into a 16-color image ? What is the compression rate of the obtained image ?"
   ]
  },
  {
   "cell_type": "code",
   "execution_count": 1,
   "id": "8d51b9448e7218d3",
   "metadata": {
    "ExecuteTime": {
     "end_time": "2023-12-05T16:40:04.726286Z",
     "start_time": "2023-12-05T16:40:04.214316Z"
    }
   },
   "outputs": [
    {
     "data": {
      "text/plain": "    x1    x2  class\n0  1.0  10.0      1\n1  1.5   2.0      2\n2  1.0   6.0      1\n3  2.0   1.5      2\n4  2.0  10.0      1",
      "text/html": "<div>\n<style scoped>\n    .dataframe tbody tr th:only-of-type {\n        vertical-align: middle;\n    }\n\n    .dataframe tbody tr th {\n        vertical-align: top;\n    }\n\n    .dataframe thead th {\n        text-align: right;\n    }\n</style>\n<table border=\"1\" class=\"dataframe\">\n  <thead>\n    <tr style=\"text-align: right;\">\n      <th></th>\n      <th>x1</th>\n      <th>x2</th>\n      <th>class</th>\n    </tr>\n  </thead>\n  <tbody>\n    <tr>\n      <th>0</th>\n      <td>1.0</td>\n      <td>10.0</td>\n      <td>1</td>\n    </tr>\n    <tr>\n      <th>1</th>\n      <td>1.5</td>\n      <td>2.0</td>\n      <td>2</td>\n    </tr>\n    <tr>\n      <th>2</th>\n      <td>1.0</td>\n      <td>6.0</td>\n      <td>1</td>\n    </tr>\n    <tr>\n      <th>3</th>\n      <td>2.0</td>\n      <td>1.5</td>\n      <td>2</td>\n    </tr>\n    <tr>\n      <th>4</th>\n      <td>2.0</td>\n      <td>10.0</td>\n      <td>1</td>\n    </tr>\n  </tbody>\n</table>\n</div>"
     },
     "execution_count": 1,
     "metadata": {},
     "output_type": "execute_result"
    }
   ],
   "source": [
    "import pandas as pd\n",
    "\n",
    "data = pd.read_csv('./TD9-kmeans.csv', header=[0])\n",
    "\n",
    "data.head()"
   ]
  },
  {
   "cell_type": "markdown",
   "id": "1a4d0e65dab4bd40",
   "metadata": {},
   "source": [
    "## Question 1\n",
    "\n",
    "Oui les données sont linéairement séparables."
   ]
  },
  {
   "cell_type": "code",
   "execution_count": 2,
   "id": "c84f3f9e526c4963",
   "metadata": {
    "ExecuteTime": {
     "end_time": "2023-12-05T16:40:05.093959Z",
     "start_time": "2023-12-05T16:40:04.726410Z"
    }
   },
   "outputs": [
    {
     "data": {
      "text/plain": "<Figure size 640x480 with 1 Axes>",
      "image/png": "[encoded data removed]"
     },
     "metadata": {},
     "output_type": "display_data"
    }
   ],
   "source": [
    "import matplotlib.pyplot as plt\n",
    "\n",
    "# Si la class est 1 afficher en vert si 2 en rouge\n",
    "\n",
    "plt.scatter(data['x1'], data['x2'], c=data['class'])\n",
    "plt.show()"
   ]
  },
  {
   "cell_type": "markdown",
   "id": "dc68221a41a80538",
   "metadata": {},
   "source": [
    "## Question 2\n",
    "\n",
    "On peut séparer avec une droite de la forme $x_2 = 0 \\times x_1 + 4$."
   ]
  },
  {
   "cell_type": "markdown",
   "id": "e4f3d7d5d3ad4ab0",
   "metadata": {},
   "source": [
    "## Question 3\n",
    "\n",
    "Apply the K-means algorithm on the input data (x1 and x2) assuming the initial centers are\n",
    "at (0,-4) and (0,8).\n",
    "\n",
    "**Initialisation:**\n",
    "- choose a value for k\n",
    "- choose k cluster centers randomly or from the datapoints\n",
    "\n",
    "**Learning:**\n",
    "- Repeat\n",
    "    - For each datapoint x\n",
    "        - Compute the distance to each cluster\n",
    "        - Assign the datapoint to the nearest cluster center\n",
    "    - For each cluster center\n",
    "        - Move the position of the center to the mean of the points in that cluster\n",
    "- Until the cluster centers stop moving\n",
    "\n",
    "**Usage:**\n",
    "- For each test point\n",
    "- Compute the distance to each cluster\n",
    "- Assign the datapoint to the nearest cluster center"
   ]
  },
  {
   "cell_type": "code",
   "execution_count": 3,
   "id": "a5f6f3736698ebef",
   "metadata": {
    "ExecuteTime": {
     "end_time": "2023-12-05T16:40:05.094134Z",
     "start_time": "2023-12-05T16:40:05.091178Z"
    }
   },
   "outputs": [],
   "source": [
    "# Initialisation\n",
    "\n",
    "import numpy as np\n",
    "\n",
    "k = 2\n",
    "c = np.array([[0, -4], [0, 8]])"
   ]
  },
  {
   "cell_type": "code",
   "execution_count": 4,
   "id": "33a48658771ce0dc",
   "metadata": {
    "ExecuteTime": {
     "end_time": "2023-12-05T16:40:05.110376Z",
     "start_time": "2023-12-05T16:40:05.095501Z"
    }
   },
   "outputs": [],
   "source": [
    "# Learning\n",
    "\n",
    "def distance(x, c):\n",
    "    # distance entre le point x et les centres c\n",
    "    return np.array([np.linalg.norm(x - c[i], axis=1) for i in range(k)]).T\n",
    "\n",
    "\n",
    "def assign(x, c):\n",
    "    return np.argmin(distance(x, c), axis=1)\n",
    "\n",
    "\n",
    "def move(x, c):\n",
    "    return np.array([np.mean(x[c == i], axis=0) for i in range(k)])"
   ]
  },
  {
   "cell_type": "markdown",
   "id": "d1c9f304ce1f5229",
   "metadata": {},
   "source": [
    "1. distance(x, c) : Cette fonction calcule la distance entre un ensemble de points x et un ensemble de centres c. Ici, x représente les points de données et c représente les centres de clusters. La fonction utilise np.linalg.norm pour calculer la norme (ou la distance euclidienne) entre chaque point et chaque centre de cluster. Le résultat est une matrice de distances où chaque ligne représente un point de données et chaque colonne représente la distance à un centre de cluster.\n",
    "2. assign(x, c) : Après avoir calculé la matrice des distances entre les points de données et les centres de clusters avec la fonction distance, assign utilise np.argmin pour trouver l'indice du centre de cluster le plus proche pour chaque point de données. Cela attribue chaque point de données au cluster le plus proche en retournant un tableau d'indices de clusters.\n",
    "3. move(x, c) : Cette fonction est utilisée pour recalculer les positions des centres de clusters après que tous les points de données ont été assignés à des clusters. Pour chaque cluster, elle calcule la moyenne des points qui lui ont été assignés (x[c == i] sélectionne tous les points de données assignés au cluster i), et cette moyenne devient la nouvelle position du centre de cluster."
   ]
  },
  {
   "cell_type": "code",
   "execution_count": 5,
   "id": "24bfbad1955152b2",
   "metadata": {
    "ExecuteTime": {
     "end_time": "2023-12-05T16:40:05.110601Z",
     "start_time": "2023-12-05T16:40:05.102186Z"
    }
   },
   "outputs": [
    {
     "name": "stdout",
     "output_type": "stream",
     "text": [
      "[[2.625 2.   ]\n",
      " [1.75  8.   ]]\n",
      "3\n"
     ]
    }
   ],
   "source": [
    "# Algorithme \n",
    "\n",
    "history_move = []\n",
    "\n",
    "\n",
    "def diff(c1, c2):\n",
    "    return np.linalg.norm(c1 - c2)\n",
    "\n",
    "\n",
    "compte = 0\n",
    "\n",
    "while len(history_move) < 2 or diff(history_move[-1], history_move[-2]) > 0.000001:\n",
    "    c = move(data[['x1', 'x2']].values, assign(data[['x1', 'x2']].values, c))\n",
    "    history_move.append(c)\n",
    "    compte += 1\n",
    "\n",
    "print(c)\n",
    "print(compte)"
   ]
  },
  {
   "cell_type": "code",
   "execution_count": 6,
   "id": "a82d437aa7b42070",
   "metadata": {
    "ExecuteTime": {
     "end_time": "2023-12-05T16:40:05.195242Z",
     "start_time": "2023-12-05T16:40:05.108980Z"
    }
   },
   "outputs": [
    {
     "data": {
      "text/plain": "<Figure size 640x480 with 1 Axes>",
      "image/png": "[encoded data removed]"
     },
     "metadata": {},
     "output_type": "display_data"
    }
   ],
   "source": [
    "# Plot\n",
    "\n",
    "plt.scatter(data['x1'], data['x2'], c=assign(data[['x1', 'x2']].values, c))\n",
    "plt.scatter(c[:, 0], c[:, 1], c='red')\n",
    "plt.show()"
   ]
  },
  {
   "cell_type": "markdown",
   "id": "64a61f0da2b40dce",
   "metadata": {},
   "source": [
    "## Question 4"
   ]
  },
  {
   "cell_type": "code",
   "execution_count": 7,
   "id": "2d19348c8b2b2021",
   "metadata": {
    "ExecuteTime": {
     "end_time": "2023-12-05T16:40:05.195487Z",
     "start_time": "2023-12-05T16:40:05.171115Z"
    }
   },
   "outputs": [
    {
     "name": "stdout",
     "output_type": "stream",
     "text": [
      "28.201111111111103\n",
      "22.937499999999996\n",
      "22.937499999999996\n"
     ]
    }
   ],
   "source": [
    "def J(x, c):\n",
    "    return np.sum(np.linalg.norm(x - c[assign(x, c)],\n",
    "                                 axis=1) ** 2)  # calcul de la distance entre les points et les centres, c[assign(x, c)] permet de récupérer les centres associés aux points\n",
    "\n",
    "\n",
    "for i in range(len(history_move)):\n",
    "    print(J(data[['x1', 'x2']].values, history_move[i]))"
   ]
  },
  {
   "cell_type": "markdown",
   "id": "f5e1656052ee37cb",
   "metadata": {},
   "source": [
    "What does this function J measure ?\n",
    "\n",
    "La fonction J mesure la somme de la distance entre les points et les centres."
   ]
  },
  {
   "cell_type": "markdown",
   "id": "cb115c36c39a913b",
   "metadata": {},
   "source": [
    "## Question 5\n",
    "\n",
    "### Compression d'image avec K-means\n",
    "\n",
    "Pour compresser une image RGB 24 bits de taille 256x256 en une image à 16 couleurs en utilisant K-means :\n",
    "\n",
    "#### Étapes :\n",
    "1. **Redimensionnement des données de l'image** : Convertir l'image en une liste de pixels en valeurs RGB.\n",
    "2. **Application de K-means** : Appliquer K-means avec `k=16` pour trouver les 16 couleurs.\n",
    "3. **Remplacement des pixels** : Remplacer chaque pixel par la couleur du centre de cluster le plus proche.\n",
    "4. **Reconstruction de l'image** : Reconstruire l'image avec la nouvelle palette de couleurs.\n",
    "\n",
    "#### Calcul du taux de compression :\n",
    "- **Taille originale** : $ 256 \\times 256 \\times 24 = 1572864$ bits\n",
    "- **Nombre de bits pour coder les 16 couleurs** : $log_2(16)=4$\n",
    "- **Taille compressée** : $ 256 \\times 256 \\times 4 = 262144$ bits\n",
    "- **Taux de compression** : $ \\frac{Taille \\ originale}{Taille \\ compressee} = \\frac{256 \\times 256 \\times 24}{256 \\times 256 \\times 4} = \\frac{24}{4} = 6 $\n",
    "\n",
    "La taille de l'image est réduite par un facteur de 6.\n"
   ]
  },
  {
   "cell_type": "markdown",
   "id": "8f1adb0a97270664",
   "metadata": {},
   "source": [
    "## Exercise #2: Self-Organizing Map (bonus)\n",
    "\n",
    "1. Apply 3 iterations of the SOM algorithm to the following data:\n",
    "The circles are the inputs (at coordinates (5,2), (3,3) and (-1,-2)) and the squares are the two interconnected neurons (at coordinates (-5,0) and (5,0)). Interconnected means they are neighbours from each other. We assume that the learning rates are constant. The learning rate of the winning neuron is equal to 0.5 and the learning rate of the neighbour neuron is equal to 0.1.\n",
    "2. Program the SOM algorithm in order to find the best possible clustering for the following data consisting of 20 random points:"
   ]
  },
  {
   "cell_type": "code",
   "execution_count": 8,
   "id": "25aaeea51b1a2daf",
   "metadata": {
    "ExecuteTime": {
     "end_time": "2023-12-05T16:40:05.256898Z",
     "start_time": "2023-12-05T16:40:05.175895Z"
    }
   },
   "outputs": [
    {
     "data": {
      "text/plain": "<matplotlib.collections.PathCollection at 0x12cf094c0>"
     },
     "execution_count": 8,
     "metadata": {},
     "output_type": "execute_result"
    },
    {
     "data": {
      "text/plain": "<Figure size 640x480 with 1 Axes>",
      "image/png": "[encoded data removed]"
     },
     "metadata": {},
     "output_type": "display_data"
    }
   ],
   "source": [
    "# Plot data circles and squares\n",
    "\n",
    "import matplotlib.pyplot as plt\n",
    "\n",
    "circle = np.array([[5, 2], [3, 3], [-1, -2]])\n",
    "square = np.array([[-5, 0], [5, 0]])\n",
    "\n",
    "plt.scatter(circle[:, 0], circle[:, 1], c='red')\n",
    "plt.scatter(square[:, 0], square[:, 1], c='green', marker='s')"
   ]
  },
  {
   "cell_type": "markdown",
   "id": "cb9eae6d8a964da6",
   "metadata": {},
   "source": [
    "## Question 1\n",
    "\n",
    "Apply 3 iterations of the SOM algorithm to the following data:\n",
    "\n",
    "**Initialisation:**\n",
    "- Choose a size (number of neurons) and number of dimensions d for the map\n",
    "- Either:\n",
    "    - Choose random values for the weight vectors so that they are all different OR\n",
    "    - Set the weight values to increase in the direction of the first d principal components (next section) of the dataset\n",
    "\n",
    "**Learning:**\n",
    "- Repeat\n",
    "    - For each datapoint:\n",
    "        - Select the best-matching neuron nb using the minimum Euclidean distance between the weights and the input\n",
    "        - Update the weight vector of the best-matching node using:\n",
    "        - Update the weight vector of all other neurons using:\n",
    "        - Reduce the learning rates and adjust the neighbourhood function, typically by , where k is the number of iterations the algorithm has been running and kmax is when you want the learning to stop.\n",
    "- Until the map stops changing or some maximum number of iterations is exceeded\n",
    "\n",
    "### Initialisation\n",
    "\n",
    "On choisit une taille de 2 et une dimension de 2 pour la carte.\n",
    "On choisit des valeurs aléatoires pour les vecteurs de poids afin qu'ils soient tous différents. Les points : [[5, 2], [3, 3], [-1, -2]] et les neurones [[-5, 0], [5, 0]] sont les poids initiaux.\n",
    "\n",
    "### Iteration 1\n",
    "\n",
    "Distance entre les poids et les points :\n",
    "- [5, 2] : \n",
    "    - [-5, 0] : 10,198\n",
    "    - [5, 0] : 2 (winner)\n",
    "- [3, 3] : \n",
    "    - [-5, 0] : 8,544\n",
    "    - [5, 0] : 3,606 (winner)\n",
    "- [-1, -2] :\n",
    "    - [-5, 0] : 4,472 (winner)\n",
    "    - [5, 0] : 6,325\n",
    "\n",
    "### Iteration 2\n",
    "\n",
    "### Iteration 3"
   ]
  },
  {
   "cell_type": "code",
   "execution_count": 9,
   "id": "a63b47e5746e8a9b",
   "metadata": {
    "ExecuteTime": {
     "end_time": "2023-12-05T16:40:05.257198Z",
     "start_time": "2023-12-05T16:40:05.246817Z"
    }
   },
   "outputs": [],
   "source": [
    "# Initialisation\n",
    "\n",
    "import numpy as np\n",
    "\n",
    "p = np.array([[5, 2], [3, 3], [-1, -2]])\n",
    "c = np.array([[-5, 0], [5, 0]])\n",
    "k = len(c)\n",
    "\n",
    "nb_iterations = 3\n",
    "\n",
    "# Learning rates\n",
    "\n",
    "alpha = 0.5\n",
    "alpha_neighbour = 0.1"
   ]
  },
  {
   "cell_type": "code",
   "execution_count": 10,
   "id": "e787e2b7ece7c664",
   "metadata": {
    "ExecuteTime": {
     "end_time": "2023-12-05T16:40:05.257731Z",
     "start_time": "2023-12-05T16:40:05.254252Z"
    }
   },
   "outputs": [
    {
     "name": "stdout",
     "output_type": "stream",
     "text": [
      "[[0 0]\n",
      " [2 0]]\n"
     ]
    }
   ],
   "source": [
    "# Learning\n",
    "\n",
    "import math as m\n",
    "\n",
    "def distance(x, c):\n",
    "    # distance entre le point x et les centres c\n",
    "    dis = []\n",
    "    for i in range(len(c)):\n",
    "        dis_aux = m.sqrt(abs(x[0] - c[i][0])**2 + abs(x[1] - c[i][1])**2)\n",
    "        dis.append(dis_aux)\n",
    "    return np.array(dis).T\n",
    "\n",
    "\n",
    "def assign(x, c):\n",
    "    dist = distance(x, c)\n",
    "    min = dist[0]\n",
    "    if dist[1] < dist[0]:\n",
    "        min = dist[1]\n",
    "        nb = 1\n",
    "    else:\n",
    "        nb = 0\n",
    "    return min, nb\n",
    "\n",
    "\n",
    "def update_weights(x, c, nb, alpha, alpha_neighbour):\n",
    "    c[nb] = c[nb] + alpha * (x - c[nb])\n",
    "    c[1 - nb] = c[1 - nb] + alpha_neighbour * (x - c[1 - nb])\n",
    "    return c\n",
    "\n",
    "\n",
    "def reduce_learning_rate(alpha, alpha_neighbour, k, kmax):\n",
    "    return alpha * (1 - k / kmax), alpha_neighbour * (1 - k / kmax)\n",
    "\n",
    "\n",
    "def som(p, c, nb_iterations, alpha, alpha_neighbour):\n",
    "    for k in range(nb_iterations):\n",
    "        for i in range(len(p)):\n",
    "            _, nb = assign(p[i], c)\n",
    "            c = update_weights(p[i], c, nb, alpha, alpha_neighbour)\n",
    "        alpha, alpha_neighbour = reduce_learning_rate(alpha, alpha_neighbour, k, nb_iterations)\n",
    "    return c\n",
    "\n",
    "\n",
    "c = som(p, c, nb_iterations, alpha, alpha_neighbour)\n",
    "print(c)"
   ]
  },
  {
   "cell_type": "code",
   "execution_count": 11,
   "id": "fdee3c447439bbb2",
   "metadata": {
    "ExecuteTime": {
     "end_time": "2023-12-05T16:40:05.360623Z",
     "start_time": "2023-12-05T16:40:05.272491Z"
    }
   },
   "outputs": [
    {
     "name": "stdout",
     "output_type": "stream",
     "text": [
      "(3.605551275463989, 1)\n",
      "(3.1622776601683795, 1)\n",
      "(2.23606797749979, 0)\n"
     ]
    },
    {
     "data": {
      "text/plain": "<Figure size 640x480 with 1 Axes>",
      "image/png": "[encoded data removed]"
     },
     "metadata": {},
     "output_type": "display_data"
    }
   ],
   "source": [
    "# Plot\n",
    "\n",
    "# Regroupement des points par cluster\n",
    "cluster = [[], []]\n",
    "\n",
    "for i in range(len(p)):\n",
    "    print(assign(p[i], c))\n",
    "    cluster[assign(p[i], c)[1]].append(p[i])\n",
    "\n",
    "\n",
    "cluster_1 = np.array(cluster[0])\n",
    "cluster_2 = np.array(cluster[1])\n",
    "\n",
    "\n",
    "# Tracer le cluster 1 en rouge\n",
    "plt.scatter(cluster_1[:, 0], cluster_1[:, 1], color='red')\n",
    "\n",
    "# Tracer le cluster 2 en orange\n",
    "plt.scatter(cluster_2[:, 0], cluster_2[:, 1], color='orange')\n",
    "\n",
    "plt.scatter(c[:, 0], c[:, 1], c='green', marker='s')\n",
    "plt.show()"
   ]
  },
  {
   "cell_type": "code",
   "execution_count": 12,
   "id": "9b644f9afdca8714",
   "metadata": {
    "ExecuteTime": {
     "end_time": "2023-12-05T16:40:05.460804Z",
     "start_time": "2023-12-05T16:40:05.335145Z"
    }
   },
   "outputs": [
    {
     "name": "stdout",
     "output_type": "stream",
     "text": [
      "[1 1 0]\n"
     ]
    },
    {
     "data": {
      "text/plain": "<matplotlib.collections.PathCollection at 0x12d00f1c0>"
     },
     "execution_count": 12,
     "metadata": {},
     "output_type": "execute_result"
    },
    {
     "data": {
      "text/plain": "<Figure size 640x480 with 1 Axes>",
      "image/png": "[encoded data removed]"
     },
     "metadata": {},
     "output_type": "display_data"
    }
   ],
   "source": [
    "# Avec la librairie sklearn_som\n",
    "\n",
    "from sklearn_som.som import SOM\n",
    "\n",
    "som = SOM(m=1, n=2,\n",
    "          dim=2)  # m = nombre de lignes, n = nombre de colonnes, dim = nombre de dimensions => 1 ligne, 2 colonnes, 2 dimensions => 2 neurones => 2 clusters\n",
    "\n",
    "som.fit(p)\n",
    "\n",
    "print(som.predict(p))\n",
    "\n",
    "plt.scatter(p[:, 0], p[:, 1],\n",
    "            c=som.predict(p))  # Affichage des points avec la prédiction du SOM s'ils font partie du cluster 0 ou 1"
   ]
  },
  {
   "cell_type": "markdown",
   "id": "fe4724bdb57e3415",
   "metadata": {},
   "source": [
    "## Question 2"
   ]
  },
  {
   "cell_type": "code",
   "execution_count": 13,
   "id": "327c8adb0cff5606",
   "metadata": {
    "ExecuteTime": {
     "end_time": "2023-12-05T16:40:05.461430Z",
     "start_time": "2023-12-05T16:40:05.409324Z"
    }
   },
   "outputs": [
    {
     "name": "stdout",
     "output_type": "stream",
     "text": [
      "[[0.98901276 0.04456817]\n",
      " [0.28725973 0.55419408]\n",
      " [0.24044918 0.29573673]\n",
      " [0.64279993 0.3272192 ]\n",
      " [0.68592133 0.06933291]\n",
      " [0.91441619 0.13358706]\n",
      " [0.20718008 0.7373724 ]\n",
      " [0.2362876  0.54446945]\n",
      " [0.03683511 0.07575365]\n",
      " [0.67196276 0.74876794]\n",
      " [0.23527116 0.42627803]\n",
      " [0.48810157 0.87751629]\n",
      " [0.30605637 0.75884081]\n",
      " [0.54139754 0.08506861]\n",
      " [0.95580219 0.5996051 ]\n",
      " [0.87514529 0.09506629]\n",
      " [0.01643793 0.42977585]\n",
      " [0.71998986 0.88206423]\n",
      " [0.42417461 0.89092469]\n",
      " [0.81753441 0.44777718]]\n"
     ]
    }
   ],
   "source": [
    "# Create data 20 random points\n",
    "\n",
    "import numpy as np\n",
    "\n",
    "data = np.random.rand(20, 2)\n",
    "print(data)"
   ]
  },
  {
   "cell_type": "code",
   "execution_count": 14,
   "id": "263a8c2cc1e15258",
   "metadata": {
    "ExecuteTime": {
     "end_time": "2023-12-05T16:40:05.543071Z",
     "start_time": "2023-12-05T16:40:05.414985Z"
    }
   },
   "outputs": [
    {
     "name": "stdout",
     "output_type": "stream",
     "text": [
      "[0 1 1 0 0 0 1 1 1 0 1 1 1 0 0 0 1 0 1 0]\n"
     ]
    },
    {
     "data": {
      "text/plain": "<matplotlib.collections.PathCollection at 0x12d055c40>"
     },
     "execution_count": 14,
     "metadata": {},
     "output_type": "execute_result"
    },
    {
     "data": {
      "text/plain": "<Figure size 640x480 with 1 Axes>",
      "image/png": "[encoded data removed]"
     },
     "metadata": {},
     "output_type": "display_data"
    }
   ],
   "source": [
    "## Application du SOM\n",
    "\n",
    "som = SOM(m=1, n=2,\n",
    "          dim=2)  # m = nombre de lignes, n = nombre de colonnes, dim = nombre de dimensions => 1 ligne, 2 colonnes, 2 dimensions => 2 neurones => 2 clusters\n",
    "\n",
    "som.fit(data)\n",
    "\n",
    "print(som.predict(data))\n",
    "\n",
    "plt.scatter(data[:, 0], data[:, 1],\n",
    "            c=som.predict(data))  # Affichage des points avec la prédiction du SOM s'ils font partie du cluster 0 ou 1"
   ]
  }
 ],
 "metadata": {
  "kernelspec": {
   "display_name": "Python 3 (ipykernel)",
   "language": "python",
   "name": "python3"
  },
  "language_info": {
   "codemirror_mode": {
    "name": "ipython",
    "version": 3
   },
   "file_extension": ".py",
   "mimetype": "text/x-python",
   "name": "python",
   "nbconvert_exporter": "python",
   "pygments_lexer": "ipython3",
   "version": "3.8.18"
  }
 },
 "nbformat": 4,
 "nbformat_minor": 5
}
